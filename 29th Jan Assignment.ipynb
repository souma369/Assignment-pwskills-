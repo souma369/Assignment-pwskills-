{
 "cells": [
  {
   "cell_type": "code",
   "execution_count": 1,
   "id": "b9c93358-28de-4ba3-8cf7-86a16b9be986",
   "metadata": {},
   "outputs": [],
   "source": [
    "# 1. who developed python programming language?"
   ]
  },
  {
   "cell_type": "code",
   "execution_count": null,
   "id": "0314fe9c-da96-4c70-9b5a-eba5dab2d9e2",
   "metadata": {},
   "outputs": [],
   "source": [
    "                 #  In late 1980s, Guido Van Rossum created python"
   ]
  },
  {
   "cell_type": "code",
   "execution_count": 2,
   "id": "f714f2b5-31f9-421d-912c-9742ab9d9ceb",
   "metadata": {},
   "outputs": [],
   "source": [
    "# 2. which type of programming does python support?"
   ]
  },
  {
   "cell_type": "code",
   "execution_count": null,
   "id": "0cb30436-4868-4cab-9679-6bd98f4a14ba",
   "metadata": {},
   "outputs": [],
   "source": [
    "#        A.Procedural Programming: Python allows you to write programs using procedural programming techniques. You can organize your code into procedures or functions that perform \n",
    "#                                 specific tasks and execute them sequentially.\n",
    "   \n",
    "#        B. Object-Oriented Programming(oops): Python supports object-oriented programming, which involves creating classes and objects to encapsulate data and behavior. you can define \n",
    "#                                              classes create objects from them and use inheritance polymorphism and encapsulation concepts.\n",
    "   \n",
    "#        C. Functional Programming: python has functional programming features such as the ability to define and use higher-order function,lambda expression and support fro map, filter,\n",
    "#                                   and reduce operations. However python is not considered a purely functional programming language.\n",
    "    \n",
    "#        D. Imperative Programming: python supports imperative programming where you write a sequence of statements that change the program's state. It allows you to use loops,\n",
    "#                                   conditionals and control structures to specify the flow of execution.\n",
    "    \n",
    "#        E. Scripting: python is widely used as a scripting language allowing you to write scripts to automate tasks, manipulate files and data and interactn with other software or \n",
    "#                     systems."
   ]
  },
  {
   "cell_type": "code",
   "execution_count": 3,
   "id": "f7d5c4b1-7a95-43b0-bb50-96bd993d600a",
   "metadata": {},
   "outputs": [],
   "source": [
    "# 3. Is python case sensitive when dealing with identifiers?"
   ]
  },
  {
   "cell_type": "code",
   "execution_count": null,
   "id": "0b16686a-b049-40a3-ba1a-2ad0b5213c36",
   "metadata": {},
   "outputs": [],
   "source": [
    "#   Yes, python is case-sensitive both when dealing with identifiers and in its syntax. This means that python treats uppercase and lowercase letters as distinct and separate.\n",
    "\n",
    "## when working with identifiers such as variable names, function names, or class names, you need to be mindful of the case. For example \"myvariable\" and myVariable\" would be \n",
    "#            considered as two different identifiers in python.\n",
    "#           Additionally, python keywords(reserved words that have special meaning in the language) are case-sensitive and must be written in lowercase. For example \"if\", \"else\",\"while\",and\n",
    "#           \"for\" are keywords, and they cannot be used as variable names with different case(e,g., \"IF\" or \"ELSE\").\n",
    "#          Its important to maintain consistency in the casting of your identifiers to avoid confusion and potential errors when referencing them in your python code."
   ]
  },
  {
   "cell_type": "code",
   "execution_count": 4,
   "id": "44e42b5f-382c-4fe1-a179-3d8b31a5fc12",
   "metadata": {},
   "outputs": [],
   "source": [
    "# 4.  what is the correct extension of the python file?"
   ]
  },
  {
   "cell_type": "code",
   "execution_count": null,
   "id": "afcab823-2c6a-4f26-86b0-1439eca0c67b",
   "metadata": {},
   "outputs": [],
   "source": [
    "#     The standard and recommended extension for python files is \"  .py \" when saving a python script or module, it is common practice to use a file name with the  \" .py\" extension. \n",
    "#  example:  \"myproject.py\""
   ]
  },
  {
   "cell_type": "code",
   "execution_count": 5,
   "id": "85153038-9851-45f7-aeee-c9dc998288a3",
   "metadata": {},
   "outputs": [],
   "source": [
    "# 5. Is python code complied or Interpreted?"
   ]
  },
  {
   "cell_type": "code",
   "execution_count": null,
   "id": "d19c3fb3-3a94-4a76-8e0d-15feeb17d456",
   "metadata": {},
   "outputs": [],
   "source": [
    "#       python is generally considered an interpreted language. when you run a python program the source code is executed line by line by the python interpreter, which translates and \n",
    "#           executes the code directly without a separate compilation step. This is known as \"dynamic execution\" or \"just-in-time compilation\".\n",
    "\n",
    "#       however its worth noting that python does involve some level of compilation behind the scenes. When you execute a python script or module the interpreter first compiles the \n",
    "#            ource code into bytecode which is a lower -level representation of the code. This bytecode is then executed by the python Virtual Machine(PVM).\n",
    "\n",
    "#        The compilation process happens automatically and transparently within the python interpreter without the need for explicit compilation steps as required in language like \n",
    "#              C or C++ . This dynamic compilation and execution process contribute to python's flexibility and ease of use.\n",
    "\n",
    "#        So, in summary while python is primarily interpreted it does involve an internal compilation step to bytecode before execution by the interpreter."
   ]
  },
  {
   "cell_type": "code",
   "execution_count": 6,
   "id": "3b3bf368-38ff-4369-8127-26363fbc269f",
   "metadata": {},
   "outputs": [],
   "source": [
    "# 6. Name a few blocks of code used to define in python language?"
   ]
  },
  {
   "cell_type": "code",
   "execution_count": 1,
   "id": "b471f0da-bca5-4f6d-88e9-dc81a9b77373",
   "metadata": {},
   "outputs": [
    {
     "ename": "IndentationError",
     "evalue": "unexpected indent (721840750.py, line 3)",
     "output_type": "error",
     "traceback": [
      "\u001b[0;36m  Cell \u001b[0;32mIn[1], line 3\u001b[0;36m\u001b[0m\n\u001b[0;31m    def function(parameter1, parameter2):\u001b[0m\n\u001b[0m    ^\u001b[0m\n\u001b[0;31mIndentationError\u001b[0m\u001b[0;31m:\u001b[0m unexpected indent\n"
     ]
    }
   ],
   "source": [
    "#     In python there are several blocks of code that are commonly used to define the structure and behavior of the program. here are a few of them:\n",
    "#    1. Function Definition: Functions are blocks of reusable code that perfrom a specific task. you can define functions in python using the \"def\" keyword followed by the function name, \n",
    "#       parentheses for parameters, and a colon. The function body is intented below the function definition. for example:\n",
    "    def function(parameter1, parameter2):\n",
    "        # function body\n",
    "        # .....\n",
    "        return result\n",
    "#     2. Class Definition: Classes are used for creating objects with properties(attributes) and behaviors(method). you can define classes using the \"class\" keyword, followed by the\n",
    "#          class name, a colon, and a indented block for the class body, for example:\n",
    "    class class1:\n",
    "        #class body\n",
    "        #....\n",
    "#   3. Conditional Statements: Conditional statements allows you to execute different blocks of code based on conditions. The commonly used conditional statements in python are \"if\",\n",
    "#        \"elif\"(else if) and \"else\". for example:\n",
    "    if condition1:\n",
    "        # code block executed if condition1 is true\n",
    "    elif condition2:\n",
    "        # code block executed if condition2 is true\n",
    "    else:\n",
    "        # code block executed if none of the above condition are true\n",
    "#    4. Loops: Loops are used to repeatedly execute a block of code. python supports \"for\" loops and \"while\" loops, for example\n",
    "    # for loop\n",
    "    for i in iterable:\n",
    "        # code block executed for each item in the iterable\n",
    "# 5.  while loop\n",
    "    while condition:\n",
    "        # code block executed as long as the condition in true"
   ]
  },
  {
   "cell_type": "code",
   "execution_count": 1,
   "id": "85465a55-9463-40f3-8b50-a8394334e023",
   "metadata": {},
   "outputs": [],
   "source": [
    "# 7. state a character used to give single line comments in paython?"
   ]
  },
  {
   "cell_type": "code",
   "execution_count": null,
   "id": "e3d4513e-1a0b-48ae-a2ab-0ec0709e4687",
   "metadata": {},
   "outputs": [],
   "source": [
    "# In python the character used to give single-line comments is the hash symbol(\"#\") when you place a hash symbol in your code, everthing after it on the same line is considered a\n",
    "#  comment and is ignored by the python interpreter ."
   ]
  },
  {
   "cell_type": "code",
   "execution_count": 2,
   "id": "72681ed3-c16d-413d-874f-19fa4e034ad9",
   "metadata": {},
   "outputs": [],
   "source": [
    "# 8. Mention function which can help us to find the version of python that we are currently working on?"
   ]
  },
  {
   "cell_type": "code",
   "execution_count": null,
   "id": "7eefb64e-94fe-406c-bd82-76d16419e9db",
   "metadata": {},
   "outputs": [],
   "source": [
    "# import sys\n",
    " # print(sys.version)\n",
    "# out put 3.10.8| packaged by conda-forge | (main, nov 22 2022, 08:26:04) [GCC 10.4.0]"
   ]
  },
  {
   "cell_type": "code",
   "execution_count": 1,
   "id": "c64c8247-26fe-41ab-aaef-952e5329b2c3",
   "metadata": {},
   "outputs": [
    {
     "name": "stdout",
     "output_type": "stream",
     "text": [
      "3.10.8 | packaged by conda-forge | (main, Nov 22 2022, 08:26:04) [GCC 10.4.0]\n"
     ]
    }
   ],
   "source": [
    "import sys\n",
    "print(sys.version)"
   ]
  },
  {
   "cell_type": "code",
   "execution_count": 3,
   "id": "657217e3-ae63-496f-afca-6bc5be51bf88",
   "metadata": {},
   "outputs": [],
   "source": [
    "# 9. python supports the creation of anonymous function at nuntime, using a construct called_________"
   ]
  },
  {
   "cell_type": "code",
   "execution_count": null,
   "id": "710aa5aa-a85e-486d-a340-672ba22fe936",
   "metadata": {},
   "outputs": [],
   "source": [
    "# python supports anonymous function at runtime using a construct called \"lambda function\" lambda.  Lambda function are a way to define small one line function without a formal name. They are often used in situations where a function is needed for a short and simple operation and there is no need to define a separate named function. Lambda function are created using the \"lambda\" keyword followed by the function parameters and a colon, followed by the expression to be evaluated\n",
    "square = lambda x: x**2\n",
    "# here x is parameter and return square"
   ]
  },
  {
   "cell_type": "code",
   "execution_count": 4,
   "id": "e96e8e0b-22aa-40da-84c8-972e3e8ea6d3",
   "metadata": {},
   "outputs": [],
   "source": [
    "# 10. what does pip stand for python?"
   ]
  },
  {
   "cell_type": "code",
   "execution_count": null,
   "id": "980ac37b-7948-4f40-9d5a-ffcd2017c4eb",
   "metadata": {},
   "outputs": [],
   "source": [
    "# PIP stands for \"pip installs packages\" or \"Pip install python\". PIP is apackage management system used for installing and managing software package and libraries written in python. \n",
    "# It is the standard package manager for python and comes bundled with the python installation since python version 3.4. PIP provides a command -line interface that allows users to \n",
    "# search for, install, upgrade, and uninstall python package from the python package index(PyPI) and other package repositories. It simplifies the process of installing third - party \n",
    "# libraries and dependencies, making it easier to use external code in python projects. With PIP you can install packages by running commands like \"pip install package_name\" or upgrade \n",
    "# packages using \"pip install--upgrade package_name\". It resolves dependencies automatically and ensures that the necessary packages are installed correctly.PIP has become an essential\n",
    "# tool in the python ecosystem enabling developers to easily manage and distribute their python packages as well as providing a convenient way for users to access and utilize those \n",
    "#  package in their projects."
   ]
  },
  {
   "cell_type": "code",
   "execution_count": 5,
   "id": "5ad91c19-8da2-4e05-968a-116c01f2209d",
   "metadata": {},
   "outputs": [],
   "source": [
    "# 11. Mention a few built-in function in python?"
   ]
  },
  {
   "cell_type": "code",
   "execution_count": null,
   "id": "c225859e-93ae-4c0e-a016-1674c2d1995a",
   "metadata": {},
   "outputs": [],
   "source": [
    "# print(), len(), input(), type(), int(), float(), str(), range(), sum(),max(), min(),etc"
   ]
  },
  {
   "cell_type": "code",
   "execution_count": 6,
   "id": "95cc73a7-9d0e-4df9-b14e-b7f8b9c241fc",
   "metadata": {},
   "outputs": [],
   "source": [
    "# 12. What is the maximum possible length of an identifier in python?"
   ]
  },
  {
   "cell_type": "code",
   "execution_count": null,
   "id": "62a16456-d512-4cb2-a6aa-b86771feef66",
   "metadata": {},
   "outputs": [],
   "source": [
    " # In python the maximum length of an identifier(variable name, function name, class name, etc) is not explicity defined. There is no hard limit on the length of identifiers imposed \n",
    "    # by the python language itself. However it is recommended to keep identifiers resonably short and meaningful for the shake of code readability and maintainability. PEP 8,\n",
    "    # the official style guide for python code suggests limiting line length to 79 characters and keeping variable names concise and descriptive. ITs worth nothing that although \n",
    "    # python doesnot enforce a maximum length for identifiers ther may be practical limitations imposed by other factors, such as the maximum file name length allowed by the operating \n",
    "    # system or specific limitations of the development tools or libraries being used"
   ]
  },
  {
   "cell_type": "code",
   "execution_count": 7,
   "id": "e7b4a7b6-c0c4-4ce4-9d66-032922431a09",
   "metadata": {},
   "outputs": [],
   "source": [
    "# 13. What are the benefits of using python?"
   ]
  },
  {
   "cell_type": "code",
   "execution_count": null,
   "id": "bf4b4dee-5da1-4559-bd2a-e88d390547fb",
   "metadata": {},
   "outputs": [],
   "source": [
    "# readability and simplicity, wide range of libraries and frameworks, cross platfrom compatibility, large and active community,productivity and rapid development, \n",
    "# integration capabilities, data analysis and scientific computing, extensibility,"
   ]
  },
  {
   "cell_type": "code",
   "execution_count": 8,
   "id": "1c1434b9-01b4-4c08-a378-ded16e2041c0",
   "metadata": {},
   "outputs": [],
   "source": [
    "# 14. How is memory managed in python?"
   ]
  },
  {
   "cell_type": "code",
   "execution_count": null,
   "id": "bf9f351e-d6b3-4a2f-a781-63f69270dc9e",
   "metadata": {},
   "outputs": [],
   "source": [
    "# memory management in python is handled automatically through a combination of techniques including reference counting and a garbage collector.\n",
    "\n",
    "# A. reference counting: python keeps track of the number of references to an object using a technique called references counting. every object in python has a references count, \n",
    "#                       which is incremented when a references to the object is created and decremented when a references is deleted. when an objects references count reaches zero\n",
    "#                       meaning no references exist, the object is no longer needed and can be deallocated.\n",
    "\n",
    "# B. Garbage Collector: In addition to references counting python employs a garbage collector to handle more complex memory management scenarios. The garbage collector is responsible \n",
    "#                      for detecting and reclaiming objects that have become unreachable due to circular references or other situation that references counting alone cannot handle.\n",
    "\n",
    "# C. Memory Allocation: python manages memory allocation for objects using a private heap. the heap is a large pool of memory where objects are dynamically allocated. when an object \n",
    "#                      is created, memory is allocated on the heap to store its data.\n",
    " \n",
    "    ### python garbage collector periodically runs in the background to identify and collect objects that are no longer reachable. It frees up memory occupied by these objects making \n",
    "     #    it available for future use.\n",
    "   \n",
    " ####  python memory management system handles the allocation and deallocation of memory transparently to the programmer. This automatic memory management is one of the reasons why \n",
    "    #    python is considered a high-level and developer-friendly language."
   ]
  },
  {
   "cell_type": "code",
   "execution_count": 9,
   "id": "017d540a-567e-4891-a5a7-1c915254d8bb",
   "metadata": {},
   "outputs": [],
   "source": [
    "# 15. How to install python on windows and set path variables?"
   ]
  },
  {
   "cell_type": "code",
   "execution_count": null,
   "id": "3dba52cc-dadc-4f9b-9dc7-f4e963021db3",
   "metadata": {},
   "outputs": [],
   "source": [
    "# go to https://www.python.org/. --> and download python installer --> run the installer --> check the box --> says \" add python to PATH\" --> \"customize installation \" or\n",
    "# install optional featured or otherwise default setting --> click \"install\" button ---> installation process begin\n",
    "\n",
    "# set path variables:  open star menu --> search \"enviroment variables\" --> select \"edit the system environment variables\" option --> system properties --> \n",
    "# click \"environmental variables\"--> under \"system variables\" --> find \"path variables\"--> click \"edit\" button -->edit environment variables--> click new button -->type in the path \n",
    "# to your python installation directory --> \"c:/python64\" depending on the version you installed --> click \"ok\" button\n",
    "\n",
    "# verify the installation: open--> new command prompt or powershell window -->type \"python --version \" --> press enter --> you should see the installed python version displayed \n",
    "# in the console"
   ]
  },
  {
   "cell_type": "code",
   "execution_count": 10,
   "id": "788673b6-6548-4b98-abc4-629855664566",
   "metadata": {},
   "outputs": [],
   "source": [
    "# 16. Is Indentation required in python?"
   ]
  },
  {
   "cell_type": "code",
   "execution_count": null,
   "id": "8c1264a3-c9ef-4a26-bcac-cb8f138d9eba",
   "metadata": {},
   "outputs": [],
   "source": [
    " # Yes, indentation is required in python > Unlike many other programming language that use braces or keywords to define blocks of code, python uses indentation to indicated \n",
    "    #  the grouping and structure of the code.Indentation refers to the spaces or tabes placed at the beginning of a line of code to align it within a block. It is used to define \n",
    "    #    the scope and hierarchy of statements with control structures(such as loops and conditional statements) and within function and class definitions."
   ]
  }
 ],
 "metadata": {
  "kernelspec": {
   "display_name": "Python 3 (ipykernel)",
   "language": "python",
   "name": "python3"
  },
  "language_info": {
   "codemirror_mode": {
    "name": "ipython",
    "version": 3
   },
   "file_extension": ".py",
   "mimetype": "text/x-python",
   "name": "python",
   "nbconvert_exporter": "python",
   "pygments_lexer": "ipython3",
   "version": "3.10.8"
  }
 },
 "nbformat": 4,
 "nbformat_minor": 5
}
