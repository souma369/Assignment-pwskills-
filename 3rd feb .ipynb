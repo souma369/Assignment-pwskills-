{
 "cells": [
  {
   "cell_type": "code",
   "execution_count": 1,
   "id": "2957b301-abb6-4d61-8c80-ad26a836cb7e",
   "metadata": {},
   "outputs": [],
   "source": [
    "### Q.1 which keyword is used to create a function?"
   ]
  },
  {
   "cell_type": "code",
   "execution_count": 2,
   "id": "800c1a1c-beb3-40f3-b09b-f1da2e1652d5",
   "metadata": {},
   "outputs": [],
   "source": [
    "              # part1  # def keyword is used to create a function"
   ]
  },
  {
   "cell_type": "code",
   "execution_count": 3,
   "id": "68674454-dec5-4493-af78-609e2b646ccd",
   "metadata": {},
   "outputs": [],
   "source": [
    "        #part2  # Create a function to return a list of odd numbers in the range of 1 to 25"
   ]
  },
  {
   "cell_type": "code",
   "execution_count": 4,
   "id": "ce3e2018-bb42-4d14-8e9b-06ca9f79d99c",
   "metadata": {},
   "outputs": [],
   "source": [
    "def question1(a,b):\n",
    "    \"\"\" this function perform when  odd number extract from range and return a list \"\"\"\n",
    "    l1=[]\n",
    "    for i in range(a,b):\n",
    "        if i%2 !=0:\n",
    "            l1.append(i)\n",
    "    return l1\n",
    "    "
   ]
  },
  {
   "cell_type": "code",
   "execution_count": 5,
   "id": "9ba386a8-4670-449c-b583-fe9aa19e1555",
   "metadata": {},
   "outputs": [
    {
     "data": {
      "text/plain": [
       "[1, 3, 5, 7, 9, 11, 13, 15, 17, 19, 21, 23]"
      ]
     },
     "execution_count": 5,
     "metadata": {},
     "output_type": "execute_result"
    }
   ],
   "source": [
    "question1(1,25)"
   ]
  },
  {
   "cell_type": "code",
   "execution_count": 6,
   "id": "7c890905-f5b0-4e4f-bb5e-7a3f49143609",
   "metadata": {},
   "outputs": [],
   "source": [
    "\n",
    "### Q.2 why *args and **kwargs is used in some functions?"
   ]
  },
  {
   "cell_type": "code",
   "execution_count": 7,
   "id": "4c1531ef-e9c5-48f7-ac08-1e0f8b8097a8",
   "metadata": {},
   "outputs": [],
   "source": [
    "          ##  *args use because *args parameter allows a function toaccept \n",
    "    # any number of positional arguments when *args is used in a ffunction definition it collects all the additional posotional arguments in to tuple\n",
    "    # this allows the function to be called with a variable number of arguments. Inside the function you can iterate over the *args tuple and process each argument accordingly"
   ]
  },
  {
   "cell_type": "code",
   "execution_count": 8,
   "id": "b70470a8-0c80-4ea9-96dc-a953c3f789d5",
   "metadata": {},
   "outputs": [
    {
     "data": {
      "text/plain": [
       "' **kwargs use because this **kwargs parameter on the other hand allows a function to accept any number of keyword arguments this\\n**kwargs parameter collects these keyword\\narguments into a dictionary. this enable the function to be calles with  a variable number of keyword arguments.\\nInside the function you can then access the values of the keyword\\narguments using their corresponding keys '"
      ]
     },
     "execution_count": 8,
     "metadata": {},
     "output_type": "execute_result"
    }
   ],
   "source": [
    "     \"\"\" **kwargs use because this **kwargs parameter on the other hand allows a function to accept any number of keyword arguments this\n",
    "     **kwargs parameter collects these keyword\n",
    "     arguments into a dictionary. this enable the function to be calles with  a variable number of keyword arguments.\n",
    "     Inside the function you can then access the values of the keyword\n",
    "     arguments using their corresponding keys \"\"\"      "
   ]
  },
  {
   "cell_type": "code",
   "execution_count": 9,
   "id": "591878d1-337d-492a-b26b-2a33437d91df",
   "metadata": {},
   "outputs": [],
   "source": [
    "  ### example of *args"
   ]
  },
  {
   "cell_type": "code",
   "execution_count": 10,
   "id": "96fbd619-b166-4bc9-8e65-6420e41f3e72",
   "metadata": {},
   "outputs": [],
   "source": [
    "def function1(*args):\n",
    "    return args"
   ]
  },
  {
   "cell_type": "code",
   "execution_count": 11,
   "id": "a13a226c-ed0b-4217-a119-444d16460acc",
   "metadata": {},
   "outputs": [
    {
     "data": {
      "text/plain": [
       "(1, 2, 3, 4, 5, 'souma')"
      ]
     },
     "execution_count": 11,
     "metadata": {},
     "output_type": "execute_result"
    }
   ],
   "source": [
    "function1(1,2,3,4,5,\"souma\")"
   ]
  },
  {
   "cell_type": "code",
   "execution_count": 12,
   "id": "fd443cb9-0dda-4082-8598-b1542ab381c4",
   "metadata": {},
   "outputs": [],
   "source": [
    " ### example of **kwargs"
   ]
  },
  {
   "cell_type": "code",
   "execution_count": 13,
   "id": "327da6c7-e3b3-4f05-8c36-9610fe027eb9",
   "metadata": {},
   "outputs": [],
   "source": [
    "  def function2(**kwargs):\n",
    "        return kwargs"
   ]
  },
  {
   "cell_type": "code",
   "execution_count": 14,
   "id": "66e590f1-d13d-480b-8f0c-6834aa4e0a00",
   "metadata": {},
   "outputs": [
    {
     "data": {
      "text/plain": [
       "{'key1': 11, 'key2': 22}"
      ]
     },
     "execution_count": 14,
     "metadata": {},
     "output_type": "execute_result"
    }
   ],
   "source": [
    "function2(key1=11, key2=22)"
   ]
  },
  {
   "cell_type": "code",
   "execution_count": 15,
   "id": "6ca30d66-c660-49a9-b3b7-041e71899d2d",
   "metadata": {},
   "outputs": [
    {
     "ename": "IndentationError",
     "evalue": "unexpected indent (172203992.py, line 2)",
     "output_type": "error",
     "traceback": [
      "\u001b[0;36m  Cell \u001b[0;32mIn[15], line 2\u001b[0;36m\u001b[0m\n\u001b[0;31m    \"\"\"iterator is an object that provided a way to access elements of a container or a sequence one by one without needing to know\u001b[0m\n\u001b[0m    ^\u001b[0m\n\u001b[0;31mIndentationError\u001b[0m\u001b[0;31m:\u001b[0m unexpected indent\n"
     ]
    }
   ],
   "source": [
    "## Q.3           what is an iterator in python?\n",
    "             \"\"\"iterator is an object that provided a way to access elements of a container or a sequence one by one without needing to know \n",
    "             the structure of the data\"\"\""
   ]
  },
  {
   "cell_type": "code",
   "execution_count": 16,
   "id": "9bc196df-c3f2-4d53-bb82-534f28293241",
   "metadata": {},
   "outputs": [],
   "source": [
    "            ### method name of iterator that initialise the iterator object"
   ]
  },
  {
   "cell_type": "code",
   "execution_count": 17,
   "id": "2f4d72b1-05a4-47ed-89bd-aaaa8870f271",
   "metadata": {},
   "outputs": [
    {
     "data": {
      "text/plain": [
       "'iter() this method returns the iterator object itself. it is called when you want to iterate over the container or sequence using a \\nloop or other iteration constructs'"
      ]
     },
     "execution_count": 17,
     "metadata": {},
     "output_type": "execute_result"
    }
   ],
   "source": [
    " \"\"\"iter() this method returns the iterator object itself. it is called when you want to iterate over the container or sequence using a \n",
    " loop or other iteration constructs\"\"\""
   ]
  },
  {
   "cell_type": "code",
   "execution_count": 18,
   "id": "897bf9b2-31a9-4c94-82d5-3abde2caf60d",
   "metadata": {},
   "outputs": [
    {
     "ename": "IndentationError",
     "evalue": "unexpected indent (2451041077.py, line 2)",
     "output_type": "error",
     "traceback": [
      "\u001b[0;36m  Cell \u001b[0;32mIn[18], line 2\u001b[0;36m\u001b[0m\n\u001b[0;31m    \"\"\" next() this method returns the next item from the oterator . if there are no more items to return, it raises the 'stopiteration'\"\"\"\u001b[0m\n\u001b[0m    ^\u001b[0m\n\u001b[0;31mIndentationError\u001b[0m\u001b[0;31m:\u001b[0m unexpected indent\n"
     ]
    }
   ],
   "source": [
    "  ###  name the method used for iteration\n",
    "    \"\"\" next() this method returns the next item from the oterator . if there are no more items to return, it raises the 'stopiteration'\"\"\""
   ]
  },
  {
   "cell_type": "code",
   "execution_count": 19,
   "id": "2eb2a7b0-08ab-4437-964e-c4bc3de8d6c0",
   "metadata": {},
   "outputs": [
    {
     "name": "stdout",
     "output_type": "stream",
     "text": [
      "2\n",
      "4\n",
      "6\n",
      "8\n",
      "10\n"
     ]
    }
   ],
   "source": [
    "l=[2,4,6,8,10,12,14,16,18,20]\n",
    "for i in l[0:5]:\n",
    "    print(i)"
   ]
  },
  {
   "cell_type": "code",
   "execution_count": 20,
   "id": "3f1a0be1-40e3-4172-83f7-1a0c85532049",
   "metadata": {},
   "outputs": [],
   "source": [
    "l=[2,4,6,8,10,12,14,16,18,20]\n",
    "\n",
    "def test(m,n):\n",
    "    for i in l[m:n]:\n",
    "        print(i)"
   ]
  },
  {
   "cell_type": "code",
   "execution_count": 21,
   "id": "91e7da91-11fc-48d8-9cd6-252933fe4da2",
   "metadata": {},
   "outputs": [
    {
     "name": "stdout",
     "output_type": "stream",
     "text": [
      "2\n",
      "4\n",
      "6\n",
      "8\n",
      "10\n"
     ]
    }
   ],
   "source": [
    "test(0,5)"
   ]
  },
  {
   "cell_type": "code",
   "execution_count": 22,
   "id": "10593521-7832-465f-8fa6-f70ef85b4d2b",
   "metadata": {},
   "outputs": [],
   "source": [
    "s=iter(l)"
   ]
  },
  {
   "cell_type": "code",
   "execution_count": 23,
   "id": "10656989-4302-40b8-9ed6-7d1988ad9da8",
   "metadata": {},
   "outputs": [
    {
     "data": {
      "text/plain": [
       "2"
      ]
     },
     "execution_count": 23,
     "metadata": {},
     "output_type": "execute_result"
    }
   ],
   "source": [
    "next(s)"
   ]
  },
  {
   "cell_type": "code",
   "execution_count": 24,
   "id": "bf17ef6f-c985-4414-b0a6-9314738d6be7",
   "metadata": {},
   "outputs": [
    {
     "data": {
      "text/plain": [
       "4"
      ]
     },
     "execution_count": 24,
     "metadata": {},
     "output_type": "execute_result"
    }
   ],
   "source": [
    "next(s)"
   ]
  },
  {
   "cell_type": "code",
   "execution_count": 25,
   "id": "8d572f82-da61-4b4a-8ac1-ab5b436308eb",
   "metadata": {},
   "outputs": [
    {
     "data": {
      "text/plain": [
       "6"
      ]
     },
     "execution_count": 25,
     "metadata": {},
     "output_type": "execute_result"
    }
   ],
   "source": [
    "next(s)"
   ]
  },
  {
   "cell_type": "code",
   "execution_count": 26,
   "id": "8bddeba3-2cbc-4c9f-8934-113a18302524",
   "metadata": {},
   "outputs": [
    {
     "data": {
      "text/plain": [
       "8"
      ]
     },
     "execution_count": 26,
     "metadata": {},
     "output_type": "execute_result"
    }
   ],
   "source": [
    "next(s)"
   ]
  },
  {
   "cell_type": "code",
   "execution_count": 27,
   "id": "2a09ed33-7e40-4d56-a587-1d4ffeedcd94",
   "metadata": {},
   "outputs": [
    {
     "data": {
      "text/plain": [
       "10"
      ]
     },
     "execution_count": 27,
     "metadata": {},
     "output_type": "execute_result"
    }
   ],
   "source": [
    "next(s)"
   ]
  },
  {
   "cell_type": "code",
   "execution_count": 28,
   "id": "2ea5cca1-3faf-48ed-bd6a-3893873943e6",
   "metadata": {},
   "outputs": [
    {
     "ename": "IndentationError",
     "evalue": "unexpected indent (372019251.py, line 2)",
     "output_type": "error",
     "traceback": [
      "\u001b[0;36m  Cell \u001b[0;32mIn[28], line 2\u001b[0;36m\u001b[0m\n\u001b[0;31m    \"\"\"a generator function  is a special  type of function that generates a sequence of values using the 'yield' keyword\"\"\"\u001b[0m\n\u001b[0m    ^\u001b[0m\n\u001b[0;31mIndentationError\u001b[0m\u001b[0;31m:\u001b[0m unexpected indent\n"
     ]
    }
   ],
   "source": [
    "# Q.4  what is generator function?\n",
    "   \"\"\"a generator function  is a special  type of function that generates a sequence of values using the 'yield' keyword\"\"\""
   ]
  },
  {
   "cell_type": "code",
   "execution_count": 29,
   "id": "8521644d-6a80-49cc-944a-105a0663563d",
   "metadata": {},
   "outputs": [
    {
     "ename": "IndentationError",
     "evalue": "unexpected indent (2288444823.py, line 2)",
     "output_type": "error",
     "traceback": [
      "\u001b[0;36m  Cell \u001b[0;32mIn[29], line 2\u001b[0;36m\u001b[0m\n\u001b[0;31m    \"\"\" because 'yield keyword is used in generator functions to define points at which the function should pause its execution and produce\u001b[0m\n\u001b[0m    ^\u001b[0m\n\u001b[0;31mIndentationError\u001b[0m\u001b[0;31m:\u001b[0m unexpected indent\n"
     ]
    }
   ],
   "source": [
    "  # why yield keyword used in python?\n",
    "    \"\"\" because 'yield keyword is used in generator functions to define points at which the function should pause its execution and produce \n",
    "    a value to be returned to the caller. \n",
    "    It axts as a generator _specific version of the return statement\n",
    "    it allows me to generate values one at a time on demend without the need to store the entire sequence in memory.\n",
    "    This is particularly useful when dealing with large or infinite sequences as it provides efficient memory usage.'\"\"\""
   ]
  },
  {
   "cell_type": "code",
   "execution_count": 30,
   "id": "14f6a26d-ab4c-4ff7-8a5c-7fa1845e07ec",
   "metadata": {},
   "outputs": [],
   "source": [
    "# example of generator function"
   ]
  },
  {
   "cell_type": "code",
   "execution_count": 31,
   "id": "164362d7-dc2b-4cdb-bbca-b695bf92ff35",
   "metadata": {},
   "outputs": [],
   "source": [
    "def even_generator(number):\n",
    "    for n in range(0,number+1,2):\n",
    "        yield n"
   ]
  },
  {
   "cell_type": "code",
   "execution_count": 32,
   "id": "1422f0f6-55d0-4e38-94ce-57860b66e458",
   "metadata": {},
   "outputs": [
    {
     "name": "stdout",
     "output_type": "stream",
     "text": [
      "0\n",
      "2\n",
      "4\n",
      "6\n",
      "8\n",
      "10\n"
     ]
    }
   ],
   "source": [
    "even_num= even_generator(10)\n",
    "for n in even_num:\n",
    "    print(n)\n",
    "    \n",
    "    "
   ]
  },
  {
   "cell_type": "code",
   "execution_count": 33,
   "id": "e8df190b-1ea9-41c1-8c59-f1d9c25e765b",
   "metadata": {},
   "outputs": [],
   "source": [
    " ### Q.5 create a generator function for prime number less than 1000. and use the next() method to print the first 20 prime numbers"
   ]
  },
  {
   "cell_type": "code",
   "execution_count": 34,
   "id": "bba53db9-26af-4d7c-855b-8cc623d3f946",
   "metadata": {},
   "outputs": [],
   "source": [
    "def prime_generator():\n",
    "    primes=[]\n",
    "    for i in range(2,1000):\n",
    "        is_prime= True\n",
    "        for prime in primes:\n",
    "            if i%prime == 0:\n",
    "                is_prime = False\n",
    "                break\n",
    "        if is_prime:\n",
    "            primes.append(i)\n",
    "            yield i"
   ]
  },
  {
   "cell_type": "code",
   "execution_count": 35,
   "id": "5825d639-9c29-4ea7-940c-c2ceac26bfe9",
   "metadata": {},
   "outputs": [
    {
     "data": {
      "text/plain": [
       "[2,\n",
       " 3,\n",
       " 5,\n",
       " 7,\n",
       " 11,\n",
       " 13,\n",
       " 17,\n",
       " 19,\n",
       " 23,\n",
       " 29,\n",
       " 31,\n",
       " 37,\n",
       " 41,\n",
       " 43,\n",
       " 47,\n",
       " 53,\n",
       " 59,\n",
       " 61,\n",
       " 67,\n",
       " 71,\n",
       " 73,\n",
       " 79,\n",
       " 83,\n",
       " 89,\n",
       " 97,\n",
       " 101,\n",
       " 103,\n",
       " 107,\n",
       " 109,\n",
       " 113,\n",
       " 127,\n",
       " 131,\n",
       " 137,\n",
       " 139,\n",
       " 149,\n",
       " 151,\n",
       " 157,\n",
       " 163,\n",
       " 167,\n",
       " 173,\n",
       " 179,\n",
       " 181,\n",
       " 191,\n",
       " 193,\n",
       " 197,\n",
       " 199,\n",
       " 211,\n",
       " 223,\n",
       " 227,\n",
       " 229,\n",
       " 233,\n",
       " 239,\n",
       " 241,\n",
       " 251,\n",
       " 257,\n",
       " 263,\n",
       " 269,\n",
       " 271,\n",
       " 277,\n",
       " 281,\n",
       " 283,\n",
       " 293,\n",
       " 307,\n",
       " 311,\n",
       " 313,\n",
       " 317,\n",
       " 331,\n",
       " 337,\n",
       " 347,\n",
       " 349,\n",
       " 353,\n",
       " 359,\n",
       " 367,\n",
       " 373,\n",
       " 379,\n",
       " 383,\n",
       " 389,\n",
       " 397,\n",
       " 401,\n",
       " 409,\n",
       " 419,\n",
       " 421,\n",
       " 431,\n",
       " 433,\n",
       " 439,\n",
       " 443,\n",
       " 449,\n",
       " 457,\n",
       " 461,\n",
       " 463,\n",
       " 467,\n",
       " 479,\n",
       " 487,\n",
       " 491,\n",
       " 499,\n",
       " 503,\n",
       " 509,\n",
       " 521,\n",
       " 523,\n",
       " 541,\n",
       " 547,\n",
       " 557,\n",
       " 563,\n",
       " 569,\n",
       " 571,\n",
       " 577,\n",
       " 587,\n",
       " 593,\n",
       " 599,\n",
       " 601,\n",
       " 607,\n",
       " 613,\n",
       " 617,\n",
       " 619,\n",
       " 631,\n",
       " 641,\n",
       " 643,\n",
       " 647,\n",
       " 653,\n",
       " 659,\n",
       " 661,\n",
       " 673,\n",
       " 677,\n",
       " 683,\n",
       " 691,\n",
       " 701,\n",
       " 709,\n",
       " 719,\n",
       " 727,\n",
       " 733,\n",
       " 739,\n",
       " 743,\n",
       " 751,\n",
       " 757,\n",
       " 761,\n",
       " 769,\n",
       " 773,\n",
       " 787,\n",
       " 797,\n",
       " 809,\n",
       " 811,\n",
       " 821,\n",
       " 823,\n",
       " 827,\n",
       " 829,\n",
       " 839,\n",
       " 853,\n",
       " 857,\n",
       " 859,\n",
       " 863,\n",
       " 877,\n",
       " 881,\n",
       " 883,\n",
       " 887,\n",
       " 907,\n",
       " 911,\n",
       " 919,\n",
       " 929,\n",
       " 937,\n",
       " 941,\n",
       " 947,\n",
       " 953,\n",
       " 967,\n",
       " 971,\n",
       " 977,\n",
       " 983,\n",
       " 991,\n",
       " 997]"
      ]
     },
     "execution_count": 35,
     "metadata": {},
     "output_type": "execute_result"
    }
   ],
   "source": [
    "prime_numbers = prime_generator()\n",
    "primes=[]\n",
    "for i in prime_numbers:\n",
    "    primes.append(i)\n",
    "primes\n"
   ]
  },
  {
   "cell_type": "code",
   "execution_count": 36,
   "id": "f6d63661-99a5-4979-961a-88eb6b554fca",
   "metadata": {},
   "outputs": [
    {
     "name": "stdout",
     "output_type": "stream",
     "text": [
      "2\n",
      "3\n",
      "5\n",
      "7\n",
      "11\n",
      "13\n",
      "17\n",
      "19\n",
      "23\n",
      "29\n",
      "31\n",
      "37\n",
      "41\n",
      "43\n",
      "47\n",
      "53\n",
      "59\n",
      "61\n",
      "67\n",
      "71\n"
     ]
    }
   ],
   "source": [
    "prime_numbers = prime_generator()\n",
    "for _ in range(20):\n",
    "    print(next(prime_numbers))"
   ]
  },
  {
   "cell_type": "code",
   "execution_count": 37,
   "id": "ea29cd98-a622-464d-aedb-3fca5ef6f34c",
   "metadata": {},
   "outputs": [],
   "source": [
    "## Q.6 write a python programe to print thr first 10 fibonacci numbers using a while loop"
   ]
  },
  {
   "cell_type": "code",
   "execution_count": 38,
   "id": "00fa9daf-2a30-41a4-b677-e84863a32c3c",
   "metadata": {},
   "outputs": [
    {
     "name": "stdout",
     "output_type": "stream",
     "text": [
      "0\n",
      "1\n",
      "1\n",
      "2\n",
      "3\n",
      "5\n",
      "8\n",
      "13\n",
      "21\n",
      "34\n"
     ]
    }
   ],
   "source": [
    " \n",
    "a , b= 0 , 1\n",
    "n = 0\n",
    "while n < 10:\n",
    "    print(a)\n",
    "    a , b= b , a + b\n",
    "    n = n + 1\n",
    "    \n",
    "        "
   ]
  },
  {
   "cell_type": "code",
   "execution_count": 39,
   "id": "133160c0-1f20-4d8a-9e14-a592d6079117",
   "metadata": {},
   "outputs": [],
   "source": [
    "## Q.7 s=\"pwskills\"  iterate"
   ]
  },
  {
   "cell_type": "code",
   "execution_count": 40,
   "id": "1b84287d-75f2-4791-b3c9-ca0f4f44df1d",
   "metadata": {},
   "outputs": [],
   "source": [
    " s=\"pwskills\"\n",
    "    "
   ]
  },
  {
   "cell_type": "code",
   "execution_count": 41,
   "id": "88b1b5ec-ade0-45f0-bf63-26b30d8b4807",
   "metadata": {},
   "outputs": [
    {
     "data": {
      "text/plain": [
       "['p', 'w', 's', 'k', 'i', 'l', 'l', 's']"
      ]
     },
     "execution_count": 41,
     "metadata": {},
     "output_type": "execute_result"
    }
   ],
   "source": [
    "l1=[]\n",
    "for i in s:\n",
    "    l1.append(i)\n",
    "l1"
   ]
  },
  {
   "cell_type": "code",
   "execution_count": 42,
   "id": "e79853a1-eb96-4ec5-93dc-784645f1720c",
   "metadata": {},
   "outputs": [
    {
     "data": {
      "text/plain": [
       "['p', 'w', 's', 'k', 'i', 'l', 'l', 's']"
      ]
     },
     "execution_count": 42,
     "metadata": {},
     "output_type": "execute_result"
    }
   ],
   "source": [
    "l1"
   ]
  },
  {
   "cell_type": "code",
   "execution_count": 43,
   "id": "6859e458-7535-45e2-b11d-a343d36909e0",
   "metadata": {},
   "outputs": [],
   "source": [
    "# comprehension"
   ]
  },
  {
   "cell_type": "code",
   "execution_count": 44,
   "id": "5c82b0e6-1def-4085-bfab-984c0c25cf66",
   "metadata": {},
   "outputs": [
    {
     "data": {
      "text/plain": [
       "['p', 'w', 's', 'k', 'i', 'l', 'l', 's']"
      ]
     },
     "execution_count": 44,
     "metadata": {},
     "output_type": "execute_result"
    }
   ],
   "source": [
    "[i for i in s]"
   ]
  },
  {
   "cell_type": "code",
   "execution_count": 45,
   "id": "fe179597-0570-4cb1-aa15-853f28286963",
   "metadata": {},
   "outputs": [
    {
     "data": {
      "text/plain": [
       "['p', 'w', 's', 'k', 'i', 'l', 'l', 's']"
      ]
     },
     "execution_count": 45,
     "metadata": {},
     "output_type": "execute_result"
    }
   ],
   "source": [
    "list(i for i in s)"
   ]
  },
  {
   "cell_type": "code",
   "execution_count": 46,
   "id": "42fdab38-5c00-40cf-a532-cb274e7c17c2",
   "metadata": {},
   "outputs": [],
   "source": [
    " ### Q.8  write a python programe to check whether a given number is palindrome or not using a while loop"
   ]
  },
  {
   "cell_type": "code",
   "execution_count": 47,
   "id": "80550930-d903-4ff0-9544-a6be948518c5",
   "metadata": {},
   "outputs": [],
   "source": [
    " def is_palindrome(number):\n",
    "        original_number = number\n",
    "        reverse_number = 0\n",
    "        while number > 0:\n",
    "            digit = number % 10\n",
    "            reverse_number = reverse_number*10 + digit\n",
    "            number //= 10\n",
    "        if original_number == reverse_number:\n",
    "            return True\n",
    "        else:\n",
    "            return False"
   ]
  },
  {
   "cell_type": "code",
   "execution_count": 48,
   "id": "f7ab4c16-c1f6-4605-9f44-60502109cab1",
   "metadata": {},
   "outputs": [
    {
     "name": "stdin",
     "output_type": "stream",
     "text": [
      " enter a number:  1526\n"
     ]
    },
    {
     "name": "stdout",
     "output_type": "stream",
     "text": [
      "1526 is not a palindrome.\n"
     ]
    }
   ],
   "source": [
    "num = int(input(\" enter a number: \"))\n",
    "if is_palindrome(num):\n",
    "    print(num, \"is a palindrome!\")\n",
    "else:\n",
    "    print(num, \"is not a palindrome.\")"
   ]
  },
  {
   "cell_type": "markdown",
   "id": "a9f44073-b34a-4277-918f-89b0c3736828",
   "metadata": {},
   "source": [
    "##### Q.9 write a code to print odd numbers from 1 to 100 using list comprehension"
   ]
  },
  {
   "cell_type": "code",
   "execution_count": 49,
   "id": "24c853d8-bae2-49f0-8559-ad55d8644163",
   "metadata": {},
   "outputs": [],
   "source": [
    " # list comprehension"
   ]
  },
  {
   "cell_type": "code",
   "execution_count": 50,
   "id": "245fb52c-5875-4e55-82c5-0198cf9c417c",
   "metadata": {},
   "outputs": [
    {
     "data": {
      "text/plain": [
       "[1,\n",
       " 3,\n",
       " 5,\n",
       " 7,\n",
       " 9,\n",
       " 11,\n",
       " 13,\n",
       " 15,\n",
       " 17,\n",
       " 19,\n",
       " 21,\n",
       " 23,\n",
       " 25,\n",
       " 27,\n",
       " 29,\n",
       " 31,\n",
       " 33,\n",
       " 35,\n",
       " 37,\n",
       " 39,\n",
       " 41,\n",
       " 43,\n",
       " 45,\n",
       " 47,\n",
       " 49,\n",
       " 51,\n",
       " 53,\n",
       " 55,\n",
       " 57,\n",
       " 59,\n",
       " 61,\n",
       " 63,\n",
       " 65,\n",
       " 67,\n",
       " 69,\n",
       " 71,\n",
       " 73,\n",
       " 75,\n",
       " 77,\n",
       " 79,\n",
       " 81,\n",
       " 83,\n",
       " 85,\n",
       " 87,\n",
       " 89,\n",
       " 91,\n",
       " 93,\n",
       " 95,\n",
       " 97,\n",
       " 99]"
      ]
     },
     "execution_count": 50,
     "metadata": {},
     "output_type": "execute_result"
    }
   ],
   "source": [
    "[i  for i in range(1,100)  if i%2 !=0]"
   ]
  },
  {
   "cell_type": "code",
   "execution_count": 51,
   "id": "2c01a857-8332-4904-84b7-42579fd1f838",
   "metadata": {},
   "outputs": [],
   "source": [
    " ### another method of list comprehension"
   ]
  },
  {
   "cell_type": "code",
   "execution_count": 52,
   "id": "5465c285-da17-4a45-8963-d53054909382",
   "metadata": {},
   "outputs": [
    {
     "data": {
      "text/plain": [
       "[1,\n",
       " 3,\n",
       " 5,\n",
       " 7,\n",
       " 9,\n",
       " 11,\n",
       " 13,\n",
       " 15,\n",
       " 17,\n",
       " 19,\n",
       " 21,\n",
       " 23,\n",
       " 25,\n",
       " 27,\n",
       " 29,\n",
       " 31,\n",
       " 33,\n",
       " 35,\n",
       " 37,\n",
       " 39,\n",
       " 41,\n",
       " 43,\n",
       " 45,\n",
       " 47,\n",
       " 49,\n",
       " 51,\n",
       " 53,\n",
       " 55,\n",
       " 57,\n",
       " 59,\n",
       " 61,\n",
       " 63,\n",
       " 65,\n",
       " 67,\n",
       " 69,\n",
       " 71,\n",
       " 73,\n",
       " 75,\n",
       " 77,\n",
       " 79,\n",
       " 81,\n",
       " 83,\n",
       " 85,\n",
       " 87,\n",
       " 89,\n",
       " 91,\n",
       " 93,\n",
       " 95,\n",
       " 97,\n",
       " 99]"
      ]
     },
     "execution_count": 52,
     "metadata": {},
     "output_type": "execute_result"
    }
   ],
   "source": [
    "list(filter(lambda x : x%2 !=0, [i for i in range(1,100)]))"
   ]
  }
 ],
 "metadata": {
  "kernelspec": {
   "display_name": "Python 3 (ipykernel)",
   "language": "python",
   "name": "python3"
  },
  "language_info": {
   "codemirror_mode": {
    "name": "ipython",
    "version": 3
   },
   "file_extension": ".py",
   "mimetype": "text/x-python",
   "name": "python",
   "nbconvert_exporter": "python",
   "pygments_lexer": "ipython3",
   "version": "3.10.8"
  }
 },
 "nbformat": 4,
 "nbformat_minor": 5
}
