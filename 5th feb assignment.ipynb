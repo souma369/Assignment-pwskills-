{
 "cells": [
  {
   "cell_type": "code",
   "execution_count": 1,
   "id": "350293b0-5be7-4b18-9a35-5adba8f57d2a",
   "metadata": {},
   "outputs": [],
   "source": [
    "### Q.1 Explain class and object with respect to object-oriented programming. Given a suitable example"
   ]
  },
  {
   "cell_type": "code",
   "execution_count": 2,
   "id": "62238c9d-6404-4fc0-b7c7-38e87a2d1719",
   "metadata": {},
   "outputs": [],
   "source": [
    "##  class:"
   ]
  },
  {
   "cell_type": "code",
   "execution_count": 3,
   "id": "00f76cd4-7ad1-4054-b1b0-5b04bb87d554",
   "metadata": {},
   "outputs": [],
   "source": [
    "         # A class is a user-defined prototype for an object that defines a set of attributes. The attributes are the data members(class or instance variable)\n",
    "   # and methods that are usually accessed via dot notation. or a class is a blueprint or a template for creating objects. It defines a set of attributes(data) \n",
    "   #  and behaviors(method) that the objects of that class will possess. A class provides a way to encapsulate related data and functionality into a single out."
   ]
  },
  {
   "cell_type": "code",
   "execution_count": 1,
   "id": "13a59d2a-7b30-4921-aa9d-20ba02389cae",
   "metadata": {},
   "outputs": [],
   "source": [
    "## Object:  It is a unique instance of a data structure(variables and methods) that's defined inside its class.  An object, on the other hand , is an instance of a class.\n",
    "           #It represents a specific entity that can be manipulated and interacted with in a program . Objects have their own unique state(values of attributes) and can perform\n",
    "           #actions(invoke method) defined in the class"
   ]
  },
  {
   "cell_type": "code",
   "execution_count": 10,
   "id": "6327cdc7-c770-4385-a98a-d1f774991fa3",
   "metadata": {},
   "outputs": [],
   "source": [
    "class school:\n",
    "    def __init__(self, students_number, teachers_no, Head_of_the_school):\n",
    "        self.no_students = students_number\n",
    "        self.no_teachers = teachers_no\n",
    "        self.HOS = Head_of_the_school\n",
    "    def school_details(self):\n",
    "        return self.no_students, self.no_teachers, self.HOS"
   ]
  },
  {
   "cell_type": "code",
   "execution_count": 11,
   "id": "87ae2506-7ba4-4306-95b2-c606b8487070",
   "metadata": {},
   "outputs": [],
   "source": [
    "bagnabarh = school(1500,55,\"susant sir\")"
   ]
  },
  {
   "cell_type": "code",
   "execution_count": 12,
   "id": "9b0ba8e1-ac34-40ab-a588-c7ae4ac904c7",
   "metadata": {},
   "outputs": [
    {
     "data": {
      "text/plain": [
       "1500"
      ]
     },
     "execution_count": 12,
     "metadata": {},
     "output_type": "execute_result"
    }
   ],
   "source": [
    "bagnabarh.no_students"
   ]
  },
  {
   "cell_type": "code",
   "execution_count": 13,
   "id": "436bcf69-96cb-47b3-9445-df1b4aed9aa5",
   "metadata": {},
   "outputs": [
    {
     "data": {
      "text/plain": [
       "55"
      ]
     },
     "execution_count": 13,
     "metadata": {},
     "output_type": "execute_result"
    }
   ],
   "source": [
    "bagnabarh.no_teachers"
   ]
  },
  {
   "cell_type": "code",
   "execution_count": 15,
   "id": "80b38a32-ae57-4646-a2e0-99a4e5037ed7",
   "metadata": {},
   "outputs": [
    {
     "data": {
      "text/plain": [
       "'susant sir'"
      ]
     },
     "execution_count": 15,
     "metadata": {},
     "output_type": "execute_result"
    }
   ],
   "source": [
    "bagnabarh.HOS"
   ]
  },
  {
   "cell_type": "code",
   "execution_count": 17,
   "id": "d80e70ac-d076-49d9-bdae-922de7944217",
   "metadata": {},
   "outputs": [
    {
     "data": {
      "text/plain": [
       "(1500, 55, 'susant sir')"
      ]
     },
     "execution_count": 17,
     "metadata": {},
     "output_type": "execute_result"
    }
   ],
   "source": [
    "bagnabarh.school_details()"
   ]
  },
  {
   "cell_type": "code",
   "execution_count": 18,
   "id": "af66d8eb-106c-4a6c-9880-c5c21adbe85c",
   "metadata": {},
   "outputs": [],
   "source": [
    "## class:  so here class name is \"school\" \n",
    "# Attributes:  an attributes are students_no, teachers_no, Head_of_the_school\n",
    "# Object/instance/variable: bagnabarh\n",
    "# method/function: schools_details\n",
    "# generator function : __init__\n",
    "# pointer/binding with  class : self keyword"
   ]
  },
  {
   "cell_type": "code",
   "execution_count": 2,
   "id": "dc292703-d13a-4152-a1a1-dc999210e6d8",
   "metadata": {},
   "outputs": [],
   "source": [
    "# Q.2 Name of four pillars of oops."
   ]
  },
  {
   "cell_type": "code",
   "execution_count": 3,
   "id": "194a66fb-8488-4e44-955f-e66832a81cb8",
   "metadata": {},
   "outputs": [],
   "source": [
    "      ## a. Eancapsulation: encpasulation is a process which bundaling data and the method(function)  that operate on that data within a single unit called a class. \n",
    "                        # encpasulation allows data hiding and provides a way to control access to the data and methods.\n",
    "        \n",
    "        # b. polymorphism: polymorphism means the ability of an object to take on different forms or behave differently in different contex. It allows objects of different \n",
    "                        #    classes to be treated as object of a common superclass. Polymorphism enables flexibility and code reusability by using methods with the same name but\n",
    "                        #   different implementations in different classes.\n",
    "                \n",
    "        # C.Inhertance : inheritance  is a mechanism that allows a class to inherit properties and method from another class. it promotes code reuse and helps create a\n",
    "                      # hierarchy of classes, with more specialized classes inheriting from more general ones.\n",
    "            \n",
    "        # d. abstraction: abstraction involves simplifying complex systems by breaking them down into more manageable and understandable parts. In oops abstraction allows\n",
    "                       # you to create abstract classes that define a common interface for a set of related classes without providing implementation details. It helps in designing\n",
    "                         # modular and maintainable code."
   ]
  },
  {
   "cell_type": "code",
   "execution_count": 4,
   "id": "96be0ed3-f833-46c4-8be1-dd3c0838ae1e",
   "metadata": {},
   "outputs": [],
   "source": [
    "# Q.3 explain why the __init__() function is used. give a suitable example."
   ]
  },
  {
   "cell_type": "code",
   "execution_count": 5,
   "id": "0ade6d93-7226-4e7d-8828-1bcd2314b890",
   "metadata": {},
   "outputs": [],
   "source": [
    "  ### because __init__ function is a special method in python it is called a constructor that is called when an object is created from that class. \n",
    "             #   it is commonly used to initialize the attributes of the object. and attribute assignment when immediatly attributes assign help because avoids potential errors, \n",
    "             #     you can assign default or initial value. Then you customize attributes any complexicity according your demand.and help extranal resources or collaborate with \n",
    "            #      other components."
   ]
  },
  {
   "cell_type": "code",
   "execution_count": 34,
   "id": "75bbd695-b73b-4909-9690-f4133f39e42a",
   "metadata": {},
   "outputs": [],
   "source": [
    "\n",
    "    class person:\n",
    "        def __init__(self, name, age, book_name):\n",
    "            self.name = name\n",
    "            self.age = age\n",
    "            self.book_name = book_name\n",
    "        def msg(self):\n",
    "            return self.name,  self.age, self.book_name "
   ]
  },
  {
   "cell_type": "code",
   "execution_count": 35,
   "id": "fd61bff9-6d22-4579-9a21-9834378fa234",
   "metadata": {},
   "outputs": [],
   "source": [
    "auther = person(\"soumadip\", 27, \"my sky\")"
   ]
  },
  {
   "cell_type": "code",
   "execution_count": 36,
   "id": "a5c04b5a-6215-4beb-a3e2-194e008ab010",
   "metadata": {},
   "outputs": [
    {
     "data": {
      "text/plain": [
       "('soumadip', 27, 'my sky')"
      ]
     },
     "execution_count": 36,
     "metadata": {},
     "output_type": "execute_result"
    }
   ],
   "source": [
    "auther.msg()"
   ]
  },
  {
   "cell_type": "code",
   "execution_count": null,
   "id": "7c1ef007-388a-4ae6-b1ca-9f4389045aad",
   "metadata": {},
   "outputs": [],
   "source": []
  },
  {
   "cell_type": "code",
   "execution_count": 1,
   "id": "5f8edc15-6eba-47c9-bfe4-57767acddb4d",
   "metadata": {},
   "outputs": [],
   "source": [
    "## Q.4 why self is used in oops?"
   ]
  },
  {
   "cell_type": "code",
   "execution_count": 2,
   "id": "5295064a-5ed8-41e2-ad9c-aac23e4e5616",
   "metadata": {},
   "outputs": [],
   "source": [
    "# \"self\" refer to the instance of a class within the class itself. The purpose of \"self\" is to allow access to the instance attributes and method of a class from within its own methods. \n",
    "# when you define a method within a class, you need to included the \"self\" parameter  as the first parameter. By convention, the name \"self\" is used ,although we can technically \n",
    "# use any name we prefer.we can differentiate between instance variables and local variables within a class. It helps in maintaining the state of individual instance and allows us \n",
    "# to access and modify their attributes and methods."
   ]
  },
  {
   "cell_type": "code",
   "execution_count": 3,
   "id": "b0cb6f6c-2ad3-48f2-a0c0-dab481826bee",
   "metadata": {},
   "outputs": [],
   "source": [
    "#  Q.5 what is inheritance?  give an example for each type of inheritance."
   ]
  },
  {
   "cell_type": "code",
   "execution_count": 37,
   "id": "b9f9501e-0564-46a6-ae84-4072df02af00",
   "metadata": {},
   "outputs": [],
   "source": [
    "       # inheritance is a fundamental concept in object-oriented programming(oops) that allows one class to inherit the properties and bhhaviors of another class.\n",
    "       # the class that inherits is called the \"subclass\" or \"derived class\", and the class being inherited from is called  the \"superclass\" or \"baseclass\". Inheritance promotes code \n",
    "        # reuse and allows for the creation of hierarchical relationships between classes."
   ]
  },
  {
   "cell_type": "code",
   "execution_count": 38,
   "id": "d2677017-6050-4a3b-9b1f-ea38b6139a8e",
   "metadata": {},
   "outputs": [],
   "source": [
    " # A. Single Inheritance:\n",
    "    "
   ]
  },
  {
   "cell_type": "code",
   "execution_count": 44,
   "id": "ca58fdef-2e11-4b57-a020-85ce3e318753",
   "metadata": {},
   "outputs": [],
   "source": [
    " class state:\n",
    "        def capitalcity(self):\n",
    "            print(\"this is big city\")\n",
    "            "
   ]
  },
  {
   "cell_type": "code",
   "execution_count": 45,
   "id": "798cdad7-7429-4af3-924e-95130144ce92",
   "metadata": {},
   "outputs": [],
   "source": [
    "class district(state):\n",
    "    def town(self):\n",
    "        print (\"this is small town\")"
   ]
  },
  {
   "cell_type": "code",
   "execution_count": 46,
   "id": "772e70ea-51a2-41a7-bb57-ea40637ac237",
   "metadata": {},
   "outputs": [],
   "source": [
    "district_obj = district()"
   ]
  },
  {
   "cell_type": "code",
   "execution_count": 47,
   "id": "8a6482fd-aa26-4dbf-b4f7-44091d3f0629",
   "metadata": {},
   "outputs": [
    {
     "name": "stdout",
     "output_type": "stream",
     "text": [
      "this is big city\n"
     ]
    }
   ],
   "source": [
    "district_obj.capitalcity()"
   ]
  },
  {
   "cell_type": "code",
   "execution_count": 48,
   "id": "471310cd-1cf8-47d3-a6c3-7739263df4c0",
   "metadata": {},
   "outputs": [
    {
     "name": "stdout",
     "output_type": "stream",
     "text": [
      "this is small town\n"
     ]
    }
   ],
   "source": [
    "district_obj.town()"
   ]
  },
  {
   "cell_type": "code",
   "execution_count": 49,
   "id": "de8bfeda-4551-4a22-8f23-3bdbb387a770",
   "metadata": {},
   "outputs": [],
   "source": [
    "# B. Multiple inheritance:"
   ]
  },
  {
   "cell_type": "code",
   "execution_count": 53,
   "id": "0c5e96b7-d996-465e-a03f-816db4040e6d",
   "metadata": {},
   "outputs": [],
   "source": [
    " class state:\n",
    "        def capitalcity(self):\n",
    "            print(\"this is big city\")\n",
    "            "
   ]
  },
  {
   "cell_type": "code",
   "execution_count": 54,
   "id": "bf137fac-1995-40de-b77e-6029759bd0a6",
   "metadata": {},
   "outputs": [],
   "source": [
    "class district:\n",
    "    def town(self):\n",
    "        print (\"this is small town\")"
   ]
  },
  {
   "cell_type": "code",
   "execution_count": 55,
   "id": "1030642b-a08a-4ddb-a4ed-2266d6a31f8f",
   "metadata": {},
   "outputs": [],
   "source": [
    "class village:\n",
    "    def panchyat(self):\n",
    "        print(\"this is panchyat office\")"
   ]
  },
  {
   "cell_type": "code",
   "execution_count": 56,
   "id": "abc4b6f1-2458-41c0-88c2-96853e796c00",
   "metadata": {},
   "outputs": [],
   "source": [
    "class details(state, district , village):\n",
    "    def state_details(self):\n",
    "        print(\"this state details\")"
   ]
  },
  {
   "cell_type": "code",
   "execution_count": 57,
   "id": "f912c456-8f8f-4166-94f1-950696da9308",
   "metadata": {},
   "outputs": [],
   "source": [
    "details_obj = details()"
   ]
  },
  {
   "cell_type": "code",
   "execution_count": 59,
   "id": "724b4b08-ff8e-466f-a1fa-c5df3db89d24",
   "metadata": {},
   "outputs": [
    {
     "name": "stdout",
     "output_type": "stream",
     "text": [
      "this is panchyat office\n"
     ]
    }
   ],
   "source": [
    "details_obj.panchyat()"
   ]
  },
  {
   "cell_type": "code",
   "execution_count": 60,
   "id": "d6078051-36e9-45aa-ba44-6fc297906bc9",
   "metadata": {},
   "outputs": [
    {
     "name": "stdout",
     "output_type": "stream",
     "text": [
      "this is small town\n"
     ]
    }
   ],
   "source": [
    "details_obj.town()"
   ]
  },
  {
   "cell_type": "code",
   "execution_count": 61,
   "id": "419763da-12f2-45d8-841a-6a50a2e71b05",
   "metadata": {},
   "outputs": [
    {
     "name": "stdout",
     "output_type": "stream",
     "text": [
      "this is big city\n"
     ]
    }
   ],
   "source": [
    "details_obj.capitalcity()"
   ]
  },
  {
   "cell_type": "code",
   "execution_count": 62,
   "id": "03bea75d-ff46-4c7e-ab3f-80c28397d72b",
   "metadata": {},
   "outputs": [],
   "source": [
    " # C. Multilevel inheritance:\n",
    "    "
   ]
  },
  {
   "cell_type": "code",
   "execution_count": 65,
   "id": "c0deb7ec-255a-4fc8-98ab-59856764071e",
   "metadata": {},
   "outputs": [],
   "source": [
    "class class1:\n",
    "    def test_call1(self):\n",
    "        return \" this is first multilevel \""
   ]
  },
  {
   "cell_type": "code",
   "execution_count": 66,
   "id": "42fb5510-be65-40aa-b416-58f13fa7c400",
   "metadata": {},
   "outputs": [],
   "source": [
    "class class2(class1):\n",
    "    def test_call2(self):\n",
    "        return \" this is second multilevel inheritance\""
   ]
  },
  {
   "cell_type": "code",
   "execution_count": 67,
   "id": "690bb804-1536-424d-aa2e-7a4462bb478b",
   "metadata": {},
   "outputs": [],
   "source": [
    "class class3(class2):\n",
    "    def test_call3(self):\n",
    "        return \" this is third multilevel inheritance\""
   ]
  },
  {
   "cell_type": "code",
   "execution_count": 68,
   "id": "0d098940-fbf5-42c8-bd89-66a66af87985",
   "metadata": {},
   "outputs": [],
   "source": [
    "class class4(class3):\n",
    "    def test_call4(self):\n",
    "        pass"
   ]
  },
  {
   "cell_type": "code",
   "execution_count": 69,
   "id": "45073aef-2d1c-4b8c-a15b-62ac3d6ccab7",
   "metadata": {},
   "outputs": [],
   "source": [
    "class4_obj = class4()"
   ]
  },
  {
   "cell_type": "code",
   "execution_count": 70,
   "id": "bf87744b-06e9-4acf-afef-5c1b4770a791",
   "metadata": {},
   "outputs": [
    {
     "data": {
      "text/plain": [
       "' this is third multilevel inheritance'"
      ]
     },
     "execution_count": 70,
     "metadata": {},
     "output_type": "execute_result"
    }
   ],
   "source": [
    "class4_obj.test_call3()"
   ]
  },
  {
   "cell_type": "code",
   "execution_count": 71,
   "id": "d0a9e22d-870c-47ac-b31c-e1ccec7ea27a",
   "metadata": {},
   "outputs": [
    {
     "data": {
      "text/plain": [
       "' this is second multilevel inheritance'"
      ]
     },
     "execution_count": 71,
     "metadata": {},
     "output_type": "execute_result"
    }
   ],
   "source": [
    "class4_obj.test_call2()"
   ]
  },
  {
   "cell_type": "code",
   "execution_count": 72,
   "id": "487e801c-d492-42e1-a3df-8ef715e8b157",
   "metadata": {},
   "outputs": [
    {
     "data": {
      "text/plain": [
       "' this is first multilevel '"
      ]
     },
     "execution_count": 72,
     "metadata": {},
     "output_type": "execute_result"
    }
   ],
   "source": [
    "class4_obj.test_call1()"
   ]
  },
  {
   "cell_type": "code",
   "execution_count": 73,
   "id": "25a556e7-9965-4b36-bfda-062e571b1e27",
   "metadata": {},
   "outputs": [],
   "source": [
    "# D. Hierarchical Inheritance"
   ]
  },
  {
   "cell_type": "code",
   "execution_count": 74,
   "id": "fb71013f-a1cb-4080-b657-6043459daddf",
   "metadata": {},
   "outputs": [],
   "source": [
    " class animal:\n",
    "        def eat(self):\n",
    "            print(\"animal is eating\")"
   ]
  },
  {
   "cell_type": "code",
   "execution_count": 75,
   "id": "19066406-b8f3-49ce-b511-9384cf3b7875",
   "metadata": {},
   "outputs": [],
   "source": [
    "class dog(animal):\n",
    "    def bark(self):\n",
    "        print(\"dog is barking\")"
   ]
  },
  {
   "cell_type": "code",
   "execution_count": 76,
   "id": "82be195f-f15d-42c8-a08f-1a3023fd9d60",
   "metadata": {},
   "outputs": [],
   "source": [
    "class cat(animal):\n",
    "    def meow(self):\n",
    "        print(\"cat is meowing\")"
   ]
  },
  {
   "cell_type": "code",
   "execution_count": 77,
   "id": "109cd611-a942-41f5-a1e2-7bcf9a4d1dac",
   "metadata": {},
   "outputs": [],
   "source": [
    "dog_obj = dog()"
   ]
  },
  {
   "cell_type": "code",
   "execution_count": 78,
   "id": "e07f4b8c-63b6-4e26-943a-dc222de22fda",
   "metadata": {},
   "outputs": [
    {
     "name": "stdout",
     "output_type": "stream",
     "text": [
      "dog is barking\n"
     ]
    }
   ],
   "source": [
    "dog_obj.bark()"
   ]
  },
  {
   "cell_type": "code",
   "execution_count": 80,
   "id": "56f0c9dd-f14a-4884-9ad8-dff764cf090d",
   "metadata": {},
   "outputs": [
    {
     "name": "stdout",
     "output_type": "stream",
     "text": [
      "animal is eating\n"
     ]
    }
   ],
   "source": [
    "dog_obj.eat()"
   ]
  },
  {
   "cell_type": "code",
   "execution_count": 81,
   "id": "3445d54c-4c16-4da1-be87-cc7eb8ccf407",
   "metadata": {},
   "outputs": [
    {
     "ename": "AttributeError",
     "evalue": "'dog' object has no attribute 'meow'",
     "output_type": "error",
     "traceback": [
      "\u001b[0;31m---------------------------------------------------------------------------\u001b[0m",
      "\u001b[0;31mAttributeError\u001b[0m                            Traceback (most recent call last)",
      "Cell \u001b[0;32mIn[81], line 1\u001b[0m\n\u001b[0;32m----> 1\u001b[0m \u001b[43mdog_obj\u001b[49m\u001b[38;5;241;43m.\u001b[39;49m\u001b[43mmeow\u001b[49m()\n",
      "\u001b[0;31mAttributeError\u001b[0m: 'dog' object has no attribute 'meow'"
     ]
    }
   ],
   "source": [
    "dog_obj.meow()"
   ]
  },
  {
   "cell_type": "code",
   "execution_count": 82,
   "id": "eb59adb2-6df5-435e-afad-2f05d8ef8838",
   "metadata": {},
   "outputs": [],
   "source": [
    "cat_obj = cat()"
   ]
  },
  {
   "cell_type": "code",
   "execution_count": 83,
   "id": "2562b786-a81f-4111-aea8-01564752ac64",
   "metadata": {},
   "outputs": [
    {
     "name": "stdout",
     "output_type": "stream",
     "text": [
      "cat is meowing\n"
     ]
    }
   ],
   "source": [
    "cat_obj.meow()"
   ]
  },
  {
   "cell_type": "code",
   "execution_count": 84,
   "id": "c3c2da40-d820-4f5e-8655-a1ebcf8ff54b",
   "metadata": {},
   "outputs": [
    {
     "ename": "AttributeError",
     "evalue": "'cat' object has no attribute 'bark'",
     "output_type": "error",
     "traceback": [
      "\u001b[0;31m---------------------------------------------------------------------------\u001b[0m",
      "\u001b[0;31mAttributeError\u001b[0m                            Traceback (most recent call last)",
      "Cell \u001b[0;32mIn[84], line 1\u001b[0m\n\u001b[0;32m----> 1\u001b[0m \u001b[43mcat_obj\u001b[49m\u001b[38;5;241;43m.\u001b[39;49m\u001b[43mbark\u001b[49m()\n",
      "\u001b[0;31mAttributeError\u001b[0m: 'cat' object has no attribute 'bark'"
     ]
    }
   ],
   "source": [
    "cat_obj.bark()"
   ]
  },
  {
   "cell_type": "code",
   "execution_count": 85,
   "id": "4920b4aa-8741-4bf5-9430-e0b5d34b5112",
   "metadata": {},
   "outputs": [
    {
     "name": "stdout",
     "output_type": "stream",
     "text": [
      "animal is eating\n"
     ]
    }
   ],
   "source": [
    "cat_obj.eat()"
   ]
  },
  {
   "cell_type": "code",
   "execution_count": null,
   "id": "039b81df-c6b9-42f9-a3e7-985d804a364f",
   "metadata": {},
   "outputs": [],
   "source": []
  }
 ],
 "metadata": {
  "kernelspec": {
   "display_name": "Python 3 (ipykernel)",
   "language": "python",
   "name": "python3"
  },
  "language_info": {
   "codemirror_mode": {
    "name": "ipython",
    "version": 3
   },
   "file_extension": ".py",
   "mimetype": "text/x-python",
   "name": "python",
   "nbconvert_exporter": "python",
   "pygments_lexer": "ipython3",
   "version": "3.10.8"
  }
 },
 "nbformat": 4,
 "nbformat_minor": 5
}
