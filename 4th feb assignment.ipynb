{
 "cells": [
  {
   "cell_type": "code",
   "execution_count": 1,
   "id": "ff76cd11-615b-4abe-b511-e844d7de4029",
   "metadata": {},
   "outputs": [],
   "source": [
    "### Q.1 Create a python program to sort the given list of tuples based on integer value using a lambda function\n"
   ]
  },
  {
   "cell_type": "code",
   "execution_count": 2,
   "id": "3d674663-9a7d-4040-9871-fca03bf21a30",
   "metadata": {},
   "outputs": [],
   "source": [
    "            ### [(\"sachin tendulkar\",34357),(\"ricky ponting\",27483),(\"jack kallis\",25534),(\"virat kohli\", 24936)]"
   ]
  },
  {
   "cell_type": "code",
   "execution_count": 3,
   "id": "995410de-0202-4917-9c37-e7cb83b00204",
   "metadata": {},
   "outputs": [],
   "source": [
    "list=[(\"sachin\",34357),(\"virat\",24936),(\"ponting\",27483),(\"jack\",25534),]"
   ]
  },
  {
   "cell_type": "code",
   "execution_count": 4,
   "id": "ae669059-4264-425f-878a-d75c0251de4e",
   "metadata": {},
   "outputs": [
    {
     "name": "stdout",
     "output_type": "stream",
     "text": [
      "[('virat', 24936), ('jack', 25534), ('ponting', 27483), ('sachin', 34357)]\n"
     ]
    }
   ],
   "source": [
    "sort_data= sorted(list, key=lambda i: i[1])\n",
    "print(sort_data)"
   ]
  },
  {
   "cell_type": "code",
   "execution_count": 5,
   "id": "7ec0bced-22cb-4135-a910-a3588819d6a0",
   "metadata": {},
   "outputs": [],
   "source": [
    "#### Q.2 write a python programe to find the squares of all the numbers in the given list of integers using lambda and map function\n",
    "              ### [1,2,3,4,5,6,7,8,9,10]"
   ]
  },
  {
   "cell_type": "code",
   "execution_count": 6,
   "id": "6629e331-f51c-4c3d-b355-7443684407fd",
   "metadata": {},
   "outputs": [],
   "source": [
    " m= [1,2,3,4,5,6,7,8,9,10]\n",
    " "
   ]
  },
  {
   "cell_type": "code",
   "execution_count": 7,
   "id": "0f2e0a2c-feb8-49d8-b62e-f80a96b9da00",
   "metadata": {},
   "outputs": [
    {
     "data": {
      "text/plain": [
       "[1, 4, 9, 16, 25, 36, 49, 64, 81, 100]"
      ]
     },
     "execution_count": 7,
     "metadata": {},
     "output_type": "execute_result"
    }
   ],
   "source": [
    "list(map(lambda x : x**2 ,m))"
   ]
  },
  {
   "cell_type": "code",
   "execution_count": 8,
   "id": "88c38931-6518-4fce-95cd-b88974df9761",
   "metadata": {},
   "outputs": [],
   "source": [
    "### Q.3   write a python program to convert the given list of integers in to a tuple of string. Use map and lamda function\n",
    "          # given list =[1,2,3,4,5,6,7,8,9,10]  expected out put (\"1\",\"2\",\"3\",\"4\",\"5\",\"6\",\"7\",\"8\",\"9\",\"10\")"
   ]
  },
  {
   "cell_type": "code",
   "execution_count": 9,
   "id": "947ab643-bc34-48de-98a9-6ae0b2f2be76",
   "metadata": {},
   "outputs": [],
   "source": [
    "list_num=[1,2,3,4,5,6,7,8,9,10]"
   ]
  },
  {
   "cell_type": "code",
   "execution_count": 10,
   "id": "2ed97620-2dfd-441b-a3ed-366e9443f89a",
   "metadata": {},
   "outputs": [
    {
     "data": {
      "text/plain": [
       "('1', '2', '3', '4', '5', '6', '7', '8', '9', '10')"
      ]
     },
     "execution_count": 10,
     "metadata": {},
     "output_type": "execute_result"
    }
   ],
   "source": [
    " tuple(map(lambda i : str(i), list_num))"
   ]
  },
  {
   "cell_type": "code",
   "execution_count": 11,
   "id": "f2dc8529-8b11-4c9c-8d6f-3888cab114a2",
   "metadata": {},
   "outputs": [],
   "source": [
    "### Q.4  write a python program using reduce function to compute the product of a list containing numbers from 1 to 25"
   ]
  },
  {
   "cell_type": "code",
   "execution_count": 12,
   "id": "afe76596-0d5c-4cc1-a3cf-d8012010231d",
   "metadata": {},
   "outputs": [
    {
     "name": "stdout",
     "output_type": "stream",
     "text": [
      "[1, 2, 3, 4, 5, 6, 7, 8, 9, 10, 11, 12, 13, 14, 15, 16, 17, 18, 19, 20, 21, 22, 23, 24, 25]\n"
     ]
    }
   ],
   "source": [
    "numbers = list(range(1,26))\n",
    "print(numbers)"
   ]
  },
  {
   "cell_type": "code",
   "execution_count": 13,
   "id": "179c3c94-9ed1-4abd-892e-cf6a8cc37e24",
   "metadata": {},
   "outputs": [
    {
     "name": "stdout",
     "output_type": "stream",
     "text": [
      "[1, 2, 3, 4, 5, 6, 7, 8, 9, 10, 11, 12, 13, 14, 15, 16, 17, 18, 19, 20, 21, 22, 23, 24, 25]\n"
     ]
    }
   ],
   "source": [
    "l1=[i for i in range(1, 26)]\n",
    "print(l1)"
   ]
  },
  {
   "cell_type": "code",
   "execution_count": 14,
   "id": "151aeb3d-d1f1-4dfb-8ec8-5b694f7615b4",
   "metadata": {},
   "outputs": [],
   "source": [
    "from functools import reduce"
   ]
  },
  {
   "cell_type": "code",
   "execution_count": 15,
   "id": "456fbe35-be25-414b-bab1-d482cb2104d8",
   "metadata": {},
   "outputs": [
    {
     "data": {
      "text/plain": [
       "15511210043330985984000000"
      ]
     },
     "execution_count": 15,
     "metadata": {},
     "output_type": "execute_result"
    }
   ],
   "source": [
    "reduce(lambda x , y : x*y , l1)"
   ]
  },
  {
   "cell_type": "code",
   "execution_count": 16,
   "id": "dbf749a9-a43b-42cc-95a3-7ca1efeba27e",
   "metadata": {},
   "outputs": [],
   "source": [
    "### Q.5 Write a python program to filter the numbers in a given list that are divisible by 2 and 3 using the filter function\n",
    "        #[2,3,6,9,27,60,90,120,55,46]"
   ]
  },
  {
   "cell_type": "code",
   "execution_count": 17,
   "id": "916425bc-6b2d-48fe-87b7-bd08eed84476",
   "metadata": {},
   "outputs": [
    {
     "data": {
      "text/plain": [
       "[6, 60, 90, 120]"
      ]
     },
     "execution_count": 17,
     "metadata": {},
     "output_type": "execute_result"
    }
   ],
   "source": [
    " \n",
    "list_numbers=[2,3,6,9,27,60,90,120,55,46]\n",
    "list(filter(lambda x : x%2 ==0 and x%3 ==0 ,list_numbers))"
   ]
  },
  {
   "cell_type": "code",
   "execution_count": 18,
   "id": "1eff3af0-7d09-48d2-be14-43dbec539004",
   "metadata": {},
   "outputs": [],
   "source": [
    "### Q.6 write a python program to find palindromes in the given list of string using lambda and filter function.\n",
    "        # [\"python\",\"php\",\"aba\",\"radar\",\"level\"]"
   ]
  },
  {
   "cell_type": "code",
   "execution_count": 19,
   "id": "ca91199e-e01a-4835-94d3-d5938104e89a",
   "metadata": {},
   "outputs": [
    {
     "name": "stdout",
     "output_type": "stream",
     "text": [
      "['php', 'aba', 'radar', 'level']\n"
     ]
    }
   ],
   "source": [
    "words_list=[\"python\",\"php\",\"aba\",\"radar\",\"level\"]\n",
    "palindromes_words= list(filter( lambda i : i == i[::-1], words_list))\n",
    "print(palindromes_words)"
   ]
  }
 ],
 "metadata": {
  "kernelspec": {
   "display_name": "Python 3 (ipykernel)",
   "language": "python",
   "name": "python3"
  },
  "language_info": {
   "codemirror_mode": {
    "name": "ipython",
    "version": 3
   },
   "file_extension": ".py",
   "mimetype": "text/x-python",
   "name": "python",
   "nbconvert_exporter": "python",
   "pygments_lexer": "ipython3",
   "version": "3.10.8"
  }
 },
 "nbformat": 4,
 "nbformat_minor": 5
}
