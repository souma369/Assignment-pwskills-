{
 "cells": [
  {
   "cell_type": "code",
   "execution_count": 4,
   "id": "e05995c8-6fd6-4b41-97d6-b69402953d0d",
   "metadata": {},
   "outputs": [],
   "source": [
    "### [Q.1] Explain with an example each when to use a for loop and a while loop."
   ]
  },
  {
   "cell_type": "code",
   "execution_count": null,
   "id": "dd619621-914e-432b-a3cc-19c1e06daf5c",
   "metadata": {},
   "outputs": [],
   "source": [
    "## example of for loop\n",
    "# 1. where  i consider a list\n",
    "# 2. then use a for loop that iterate every element in list"
   ]
  },
  {
   "cell_type": "code",
   "execution_count": 2,
   "id": "95555f64-4db3-40aa-8d20-46bd7ef9efbd",
   "metadata": {},
   "outputs": [
    {
     "name": "stdout",
     "output_type": "stream",
     "text": [
      "1\n",
      "2\n",
      "33\n",
      "44\n",
      "35\n",
      "5\n",
      "5436\n",
      "68\n",
      "89\n",
      "67\n"
     ]
    }
   ],
   "source": [
    "l=[1,2,33,44,35,5,5436,68,89,67]\n",
    "for i in l:\n",
    "    print(i)"
   ]
  },
  {
   "cell_type": "code",
   "execution_count": null,
   "id": "fbbbb9b0-8b82-4368-8ee0-1e7cc0bc55d9",
   "metadata": {},
   "outputs": [],
   "source": [
    "# iterate same list but use while loop\n",
    "# here same out put by useing while loop"
   ]
  },
  {
   "cell_type": "code",
   "execution_count": 2,
   "id": "2642cdd0-e455-4f07-9b80-cbf3b61c974d",
   "metadata": {},
   "outputs": [
    {
     "name": "stdout",
     "output_type": "stream",
     "text": [
      "1\n",
      "2\n",
      "33\n",
      "44\n",
      "35\n",
      "5\n",
      "5436\n",
      "68\n",
      "89\n",
      "67\n"
     ]
    }
   ],
   "source": [
    "l=[1,2,33,44,35,5,5436,68,89,67]\n",
    "i=0\n",
    "while i<=len(l)-1:\n",
    "    print(l[i])\n",
    "    i=i+1\n",
    "\n",
    "    "
   ]
  },
  {
   "cell_type": "code",
   "execution_count": 4,
   "id": "8561d2c3-ae86-416f-837a-1bbebbaba99f",
   "metadata": {},
   "outputs": [],
   "source": [
    "# [Q.2] write a python program to print the sum and product of the first 10 natural numbers using for and whhile loop"
   ]
  },
  {
   "cell_type": "code",
   "execution_count": 5,
   "id": "c060bebb-43b1-48f7-a481-478efd5416c0",
   "metadata": {},
   "outputs": [],
   "source": [
    "                # for loop      find [sum] of first 10 natural numbers:"
   ]
  },
  {
   "cell_type": "code",
   "execution_count": 17,
   "id": "301df01b-9eaf-44b5-b500-0b470db876d9",
   "metadata": {},
   "outputs": [
    {
     "data": {
      "text/plain": [
       "55"
      ]
     },
     "execution_count": 17,
     "metadata": {},
     "output_type": "execute_result"
    }
   ],
   "source": [
    "n=list(range(1,11))\n",
    "sum=0\n",
    "for i in n:\n",
    "    sum=sum+i\n",
    "sum"
   ]
  },
  {
   "cell_type": "code",
   "execution_count": 16,
   "id": "fc668b83-1234-4a7b-a873-6c3c2c13b1ac",
   "metadata": {},
   "outputs": [],
   "source": [
    "                                # find [product]  of first 10 natural numbers:"
   ]
  },
  {
   "cell_type": "code",
   "execution_count": 18,
   "id": "0c035dac-5056-4e82-a2de-04a87ae08ffb",
   "metadata": {},
   "outputs": [
    {
     "data": {
      "text/plain": [
       "3628800"
      ]
     },
     "execution_count": 18,
     "metadata": {},
     "output_type": "execute_result"
    }
   ],
   "source": [
    "n=list(range(1,11))\n",
    "product=1\n",
    "for i in n:\n",
    "    product=product*i\n",
    "product"
   ]
  },
  {
   "cell_type": "code",
   "execution_count": 19,
   "id": "8d106b7b-f3f2-4423-b1b2-54156bd80dc5",
   "metadata": {},
   "outputs": [],
   "source": [
    "   # while loop                  sum of first 10 natural numbers"
   ]
  },
  {
   "cell_type": "code",
   "execution_count": 20,
   "id": "2b7babe0-03db-4630-9657-a7080ae736d2",
   "metadata": {},
   "outputs": [
    {
     "name": "stdin",
     "output_type": "stream",
     "text": [
      "enter your limit:- 10\n"
     ]
    },
    {
     "data": {
      "text/plain": [
       "55"
      ]
     },
     "execution_count": 20,
     "metadata": {},
     "output_type": "execute_result"
    }
   ],
   "source": [
    "n=int(input(\"enter your limit:-\"))\n",
    "sum=0\n",
    "counter=1\n",
    "while counter<=n:\n",
    "    sum=sum+counter\n",
    "    counter=counter+1\n",
    "sum\n",
    "    "
   ]
  },
  {
   "cell_type": "code",
   "execution_count": null,
   "id": "6f6fa776-3104-4b33-9243-5b94c42e2a2d",
   "metadata": {},
   "outputs": [],
   "source": [
    "                              # product"
   ]
  },
  {
   "cell_type": "code",
   "execution_count": 21,
   "id": "2540423d-3f87-4c96-be16-6427ef8eb880",
   "metadata": {},
   "outputs": [
    {
     "data": {
      "text/plain": [
       "3628800"
      ]
     },
     "execution_count": 21,
     "metadata": {},
     "output_type": "execute_result"
    }
   ],
   "source": [
    "n=list(range(1,11))\n",
    "product=1\n",
    "counter=1\n",
    "while counter<=len(n):\n",
    "    product=product*counter\n",
    "    counter=counter+1\n",
    "product"
   ]
  },
  {
   "cell_type": "code",
   "execution_count": null,
   "id": "edaa93f1-c516-4da6-822e-8020f7af5bde",
   "metadata": {},
   "outputs": [],
   "source": [
    "# [Q.3] calculate electricity bill:\n"
   ]
  },
  {
   "cell_type": "code",
   "execution_count": 1,
   "id": "4c842f31-70fb-410f-9ffb-018e1a4d33f7",
   "metadata": {},
   "outputs": [
    {
     "name": "stdin",
     "output_type": "stream",
     "text": [
      "enter your consumed units:- 310\n"
     ]
    },
    {
     "name": "stdout",
     "output_type": "stream",
     "text": [
      "this is your bill = 2250\n"
     ]
    }
   ],
   "source": [
    "unit=eval(input(\"enter your consumed units:-\"))\n",
    "if unit<=100:\n",
    "    print('this is your bill',\"=\", unit*4.5 )\n",
    "elif unit>100 and unit<=200:\n",
    "    print('this is your bill',\"=\", 450+((unit-100)*6))\n",
    "elif unit>200 and unit<=300:\n",
    "    print(\"this is your bill\",\"=\", 1050+((unit-200)*10))\n",
    "else:\n",
    "    print(\"this is your bill\",\"=\", 2050+((unit-300)*20))\n",
    "    \n",
    "         "
   ]
  },
  {
   "cell_type": "code",
   "execution_count": 2,
   "id": "54f0e510-758a-4a9e-ac04-19441b2e391d",
   "metadata": {},
   "outputs": [],
   "source": [
    "# Q.4                            for loop"
   ]
  },
  {
   "cell_type": "code",
   "execution_count": 1,
   "id": "27fda6cc-cfd1-4580-a9fe-1694bef08d7b",
   "metadata": {},
   "outputs": [
    {
     "data": {
      "text/plain": [
       "[5,\n",
       " 10,\n",
       " 15,\n",
       " 20,\n",
       " 25,\n",
       " 30,\n",
       " 35,\n",
       " 40,\n",
       " 45,\n",
       " 50,\n",
       " 55,\n",
       " 60,\n",
       " 65,\n",
       " 70,\n",
       " 75,\n",
       " 80,\n",
       " 85,\n",
       " 90,\n",
       " 95,\n",
       " 100]"
      ]
     },
     "execution_count": 1,
     "metadata": {},
     "output_type": "execute_result"
    }
   ],
   "source": [
    "l=list(range(1,101,1))\n",
    "l1=[]\n",
    "for i in l:\n",
    "    if i**3%5==0:\n",
    "        l1.append(i)\n",
    "l1"
   ]
  },
  {
   "cell_type": "code",
   "execution_count": null,
   "id": "67710022-bda9-4c65-9276-c197698d2bfc",
   "metadata": {},
   "outputs": [],
   "source": [
    "#               while loop"
   ]
  },
  {
   "cell_type": "code",
   "execution_count": 5,
   "id": "fab061db-7b42-47cf-94b5-4492180f6ca9",
   "metadata": {},
   "outputs": [
    {
     "data": {
      "text/plain": [
       "[5,\n",
       " 10,\n",
       " 15,\n",
       " 20,\n",
       " 25,\n",
       " 30,\n",
       " 35,\n",
       " 40,\n",
       " 45,\n",
       " 50,\n",
       " 55,\n",
       " 60,\n",
       " 65,\n",
       " 70,\n",
       " 75,\n",
       " 80,\n",
       " 85,\n",
       " 90,\n",
       " 95,\n",
       " 100]"
      ]
     },
     "execution_count": 5,
     "metadata": {},
     "output_type": "execute_result"
    }
   ],
   "source": [
    "l2=[]\n",
    "counter=1\n",
    "while counter<=100:\n",
    "    if counter**3%5==0:\n",
    "        l2.append(counter)\n",
    "    counter=counter+1\n",
    "l2"
   ]
  },
  {
   "cell_type": "code",
   "execution_count": null,
   "id": "e63ae243-312a-4459-aae7-bd88bc70e1b0",
   "metadata": {},
   "outputs": [],
   "source": [
    "# Q.5  "
   ]
  },
  {
   "cell_type": "code",
   "execution_count": 6,
   "id": "4d3b9427-60fa-43b7-9e9f-30c634d5894a",
   "metadata": {},
   "outputs": [
    {
     "name": "stdout",
     "output_type": "stream",
     "text": [
      "numbers of vowels: 12\n"
     ]
    }
   ],
   "source": [
    "string=\" i want to become a data scientist\"\n",
    "vowels=0\n",
    "for char in string:\n",
    "    if char.lower() in \"aeiou\":\n",
    "        vowels=vowels+1\n",
    "print(\"numbers of vowels:\", vowels)\n",
    "        "
   ]
  },
  {
   "cell_type": "code",
   "execution_count": null,
   "id": "f9479a8a-24f7-4481-9fb8-d6e2ef671b48",
   "metadata": {},
   "outputs": [],
   "source": []
  }
 ],
 "metadata": {
  "kernelspec": {
   "display_name": "Python 3 (ipykernel)",
   "language": "python",
   "name": "python3"
  },
  "language_info": {
   "codemirror_mode": {
    "name": "ipython",
    "version": 3
   },
   "file_extension": ".py",
   "mimetype": "text/x-python",
   "name": "python",
   "nbconvert_exporter": "python",
   "pygments_lexer": "ipython3",
   "version": "3.10.8"
  }
 },
 "nbformat": 4,
 "nbformat_minor": 5
}
