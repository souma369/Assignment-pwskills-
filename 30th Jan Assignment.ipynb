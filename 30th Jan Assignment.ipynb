{
 "cells": [
  {
   "cell_type": "code",
   "execution_count": 4,
   "id": "6f271398-e6a3-457f-81e5-3f8f7ad1b2bc",
   "metadata": {},
   "outputs": [],
   "source": [
    "# Q.1. write a program to accept percentage from the user and display the grade according to the following criteria: "
   ]
  },
  {
   "cell_type": "code",
   "execution_count": 5,
   "id": "3c4829c4-8ce4-49b5-99f0-e4781bf39d39",
   "metadata": {},
   "outputs": [
    {
     "name": "stdin",
     "output_type": "stream",
     "text": [
      " enter your percentage 75\n"
     ]
    },
    {
     "name": "stdout",
     "output_type": "stream",
     "text": [
      "your grade is 'C' \n"
     ]
    }
   ],
   "source": [
    "p = eval(input(\" enter your percentage\"))\n",
    "if p > 90 and p <= 100:\n",
    "    print(\" your grade is  'A' \")\n",
    "elif p >80 and p<=90:\n",
    "    print(\"your grade is 'B' \")\n",
    "elif p>=60 and p<=80:\n",
    "    print(\"your grade is 'C' \")\n",
    "elif p<60 and p>=0:\n",
    "    print(\"your grade is ' D' \")\n",
    "else:\n",
    "    print(' your percentage does not exist')\n"
   ]
  },
  {
   "cell_type": "code",
   "execution_count": 6,
   "id": "efee830a-fc3f-4658-a829-6cf2f6e59d75",
   "metadata": {},
   "outputs": [],
   "source": [
    "# Q.2. write a programe to accept the cost price of a bike and displaying the road tax to be paid according to the following."
   ]
  },
  {
   "cell_type": "code",
   "execution_count": 7,
   "id": "0226d0a4-92cb-4762-90b4-23cd98db338e",
   "metadata": {},
   "outputs": [
    {
     "name": "stdin",
     "output_type": "stream",
     "text": [
      "enter your cost price of bike  450000\n"
     ]
    },
    {
     "name": "stdout",
     "output_type": "stream",
     "text": [
      "your road tax to be paid '15% ' or 67500.0\n"
     ]
    }
   ],
   "source": [
    "c = eval(input(\"enter your cost price of bike \"))\n",
    "if c> 100000:\n",
    "    print(\"your road tax to be paid '15% '\", \"or\" ,  c*.15)\n",
    "elif c <=100000 and c>50000:\n",
    "    print(\"your road tax to be paid '10%'\", \"or\" , c*.10)\n",
    "elif c <=50000 and c>=0:\n",
    "    print(\"your road tax to be paid '5%'\", \"or\", c*.05)\n",
    "else:\n",
    "    print(\"your bike is not ready, wait 100 years 😂 \")\n",
    "\n"
   ]
  },
  {
   "cell_type": "code",
   "execution_count": 8,
   "id": "ab37aa29-65a0-4273-a4b2-c56db711bf9d",
   "metadata": {},
   "outputs": [],
   "source": [
    "# Q. 3. Accept any city from the user and displaying monuments of that city."
   ]
  },
  {
   "cell_type": "code",
   "execution_count": 9,
   "id": "a1986d54-4896-40b2-8e00-8d9456ee4736",
   "metadata": {},
   "outputs": [
    {
     "name": "stdin",
     "output_type": "stream",
     "text": [
      "enter one city  display monuments of that city: delhi, agra ,jaipur: agra\n"
     ]
    },
    {
     "name": "stdout",
     "output_type": "stream",
     "text": [
      " Taj Mahal\n"
     ]
    }
   ],
   "source": [
    "m = str(input(\"enter one city  display monuments of that city: delhi, agra ,jaipur:\"))\n",
    "if m=='delhi' :\n",
    "    print(\"Red Fort\")\n",
    "elif m=='agra':\n",
    "    print(\" Taj Mahal\")\n",
    "elif m=='jaipur':\n",
    "    print(\"Jal Mahal\")\n",
    "else:\n",
    "    print(\"i am sorry \")"
   ]
  },
  {
   "cell_type": "code",
   "execution_count": 10,
   "id": "c3b5588e-b916-478b-9657-e55d44b67d2a",
   "metadata": {},
   "outputs": [],
   "source": [
    "# Q.4. check how many times a given number can be divided by 3 before it is less than or equal to 10."
   ]
  },
  {
   "cell_type": "code",
   "execution_count": 20,
   "id": "dcca24a1-c504-49aa-b9fe-ec155bf32255",
   "metadata": {},
   "outputs": [
    {
     "name": "stdin",
     "output_type": "stream",
     "text": [
      "check your number how many times divided by 3: enter your number  50\n"
     ]
    },
    {
     "name": "stdout",
     "output_type": "stream",
     "text": [
      "1\n",
      "2\n"
     ]
    }
   ],
   "source": [
    "x = eval(input(\"check your number how many times divided by 3: enter your number \"))\n",
    "n = 0\n",
    "while x>=10:\n",
    "    x /=3\n",
    "    n = n+1\n",
    "    print(n)\n",
    "    \n",
    "    "
   ]
  },
  {
   "cell_type": "code",
   "execution_count": 16,
   "id": "99241374-0939-4287-b9c7-c9a175ac7349",
   "metadata": {},
   "outputs": [],
   "source": [
    "def count_divisions(n):\n",
    "    d = 0\n",
    "    while n > 10:\n",
    "        n /= 3\n",
    "        d = d + 1\n",
    "    return d\n",
    "#print(\"your number can be divided by 3\", count_divisions(n),\"times before it is less than or equal to 10\")"
   ]
  },
  {
   "cell_type": "code",
   "execution_count": 18,
   "id": "70cd71d5-0221-44f5-bb5a-f70292bb8d2d",
   "metadata": {},
   "outputs": [
    {
     "data": {
      "text/plain": [
       "3"
      ]
     },
     "execution_count": 18,
     "metadata": {},
     "output_type": "execute_result"
    }
   ],
   "source": [
    "count_divisions(99)"
   ]
  },
  {
   "cell_type": "code",
   "execution_count": 19,
   "id": "1f3ba84c-0a54-4530-a90b-c5a4be921fc0",
   "metadata": {},
   "outputs": [],
   "source": [
    "# Q.5. why and when to use while loop in python given a detailed description with example."
   ]
  },
  {
   "cell_type": "code",
   "execution_count": 20,
   "id": "1110d980-8396-4bed-b5e7-7bd7d026cbbd",
   "metadata": {},
   "outputs": [],
   "source": [
    "#  The \"while \" loop is a control flow statement in python that allows you to repeatedly execute a block of code as long as a certain condition remains true . It is useful when\n",
    "#   you need to perform a task repeatedly until a specific condition is met. Here's  a detailed description and an example to illustrate usage.\n",
    "# while condition:\n",
    "#       code block"
   ]
  },
  {
   "cell_type": "code",
   "execution_count": 21,
   "id": "e9c141f2-ca21-4611-8ed7-181527d93c53",
   "metadata": {},
   "outputs": [],
   "source": [
    "# The condition is a boolean expression that is evaluated before each iteration. If the condition is true the code block inside the \"while\" loop is executed. Afterward \n",
    "# the condition is reevaluated and if it remains true, the loop continues. This process continues until the condition becomes false, at which point the loop terminates, and the \n",
    "# program continues with the subsequent code."
   ]
  },
  {
   "cell_type": "code",
   "execution_count": 22,
   "id": "05ee14f2-985d-4cc9-ae93-e3d5cb124bf9",
   "metadata": {},
   "outputs": [
    {
     "name": "stdout",
     "output_type": "stream",
     "text": [
      "1\n",
      "2\n",
      "3\n",
      "4\n",
      "5\n",
      "6\n"
     ]
    }
   ],
   "source": [
    "n = 1\n",
    "while n <=6:\n",
    "    print(n)\n",
    "    n=n+1"
   ]
  },
  {
   "cell_type": "code",
   "execution_count": 23,
   "id": "10e5a230-6249-42c7-92a0-99b99c5aac74",
   "metadata": {},
   "outputs": [],
   "source": [
    "# here we initialize the variable n to 6. the while loop condition n<=6 checks whether n is less than or equal to 6. As long as the condition is true, the code block inside \n",
    "# the loop is executed. Inside the loop we print the current value of n and then increment it by 1 using n=n+1 . This ensure that the loop progresses and eventually \n",
    "# the condition n<=6 will become false when n becomes 7. At that point the loop terminates and the program continues with the subsequent code.By using a while loop we were able to \n",
    "# repeatedly execute the code block until the condition became false. This flexibility makes the while loop suitable for situations where you need to repeat an action until a specific \n",
    "# condition is met, such as iterating over a list or performing calculations based on certain criteria."
   ]
  },
  {
   "cell_type": "code",
   "execution_count": 24,
   "id": "59cd1359-414e-4323-affb-9a2accc63855",
   "metadata": {},
   "outputs": [],
   "source": [
    "# Q. 6. Use nested while loop to print 3 different patterns\n"
   ]
  },
  {
   "cell_type": "code",
   "execution_count": 25,
   "id": "339939a8-ba01-4528-b406-0c1e9ec28670",
   "metadata": {},
   "outputs": [
    {
     "name": "stdin",
     "output_type": "stream",
     "text": [
      "enter the size of the square pattern: 5\n"
     ]
    },
    {
     "name": "stdout",
     "output_type": "stream",
     "text": [
      "* * * * * \n",
      "* * * * * \n",
      "* * * * * \n",
      "* * * * * \n",
      "* * * * * \n"
     ]
    }
   ],
   "source": [
    "# first patterns\n",
    "size = int(input(\"enter the size of the square pattern:\"))\n",
    "row = 1\n",
    "while row <= size:\n",
    "    column = 1\n",
    "    while column <= size:\n",
    "        print(\"*\", end=\" \")\n",
    "        column= column + 1\n",
    "    print()\n",
    "    row = row + 1"
   ]
  },
  {
   "cell_type": "code",
   "execution_count": 26,
   "id": "f17ec833-dd74-4519-9dce-66cfc107cd5c",
   "metadata": {},
   "outputs": [
    {
     "name": "stdin",
     "output_type": "stream",
     "text": [
      "enter the total number of rows :  5\n"
     ]
    },
    {
     "name": "stdout",
     "output_type": "stream",
     "text": [
      "        * \n",
      "      * * \n",
      "    * * * \n",
      "  * * * * \n",
      "* * * * * \n"
     ]
    }
   ],
   "source": [
    "# second pattern\n",
    "rows = int(input(\"enter the total number of rows : \"))\n",
    "i = 1\n",
    "while(i <= rows):\n",
    "    j = 1\n",
    "    while(j <= rows):\n",
    "        if(j <= rows - i):\n",
    "            print(\" \" , end = \" \")\n",
    "        else:\n",
    "            print(\"*\",end = \" \")\n",
    "        j = j + 1\n",
    "    i = i + 1\n",
    "    print()"
   ]
  },
  {
   "cell_type": "code",
   "execution_count": 27,
   "id": "abc763ab-6260-4c93-8f2b-1b483cf40384",
   "metadata": {},
   "outputs": [
    {
     "name": "stdout",
     "output_type": "stream",
     "text": [
      "enter the number of rows:  "
     ]
    },
    {
     "name": "stdin",
     "output_type": "stream",
     "text": [
      " 5\n"
     ]
    },
    {
     "name": "stdout",
     "output_type": "stream",
     "text": [
      "1 \n",
      "2 3 \n",
      "4 5 6 \n",
      "7 8 9 10 \n",
      "11 12 13 14 15 \n"
     ]
    }
   ],
   "source": [
    "# third pattern\n",
    "print(\"enter the number of rows: \", end=\" \")\n",
    "row = int(input())\n",
    "num = 1\n",
    "i = 0\n",
    "while i< row:\n",
    "    j = 0\n",
    "    while j< i+1:\n",
    "        print(num, end=\" \")\n",
    "        num = num + 1\n",
    "        j = j + 1\n",
    "    print()\n",
    "    i = i + 1"
   ]
  },
  {
   "cell_type": "code",
   "execution_count": 28,
   "id": "ff6a9ed8-80d5-49b0-be77-155c37d04fd7",
   "metadata": {},
   "outputs": [],
   "source": [
    "# Q.7. reverse a while loop to display numbers from 10 to 1."
   ]
  },
  {
   "cell_type": "code",
   "execution_count": 29,
   "id": "14b42c35-67bb-40fb-a37d-f2a08bff0954",
   "metadata": {},
   "outputs": [
    {
     "name": "stdout",
     "output_type": "stream",
     "text": [
      "10\n",
      "9\n",
      "8\n",
      "7\n",
      "6\n",
      "5\n",
      "4\n",
      "3\n",
      "2\n",
      "1\n"
     ]
    }
   ],
   "source": [
    "n=10\n",
    "while n>=1:\n",
    "    print(n)\n",
    "    n=n-1"
   ]
  },
  {
   "cell_type": "code",
   "execution_count": 30,
   "id": "986d7c21-a1b1-4b05-8766-495c8125c594",
   "metadata": {},
   "outputs": [],
   "source": [
    "# Q.8. reverse a while loop to display numbers from 10 to 1."
   ]
  },
  {
   "cell_type": "code",
   "execution_count": 31,
   "id": "e1d1aae5-adb5-49dd-a9a1-540b181fcaff",
   "metadata": {},
   "outputs": [
    {
     "name": "stdout",
     "output_type": "stream",
     "text": [
      "10\n",
      "9\n",
      "8\n",
      "7\n",
      "6\n",
      "5\n",
      "4\n",
      "3\n",
      "2\n",
      "1\n"
     ]
    }
   ],
   "source": [
    "n=10\n",
    "while n>=1:\n",
    "    print(n)\n",
    "    n=n-1"
   ]
  },
  {
   "cell_type": "code",
   "execution_count": null,
   "id": "e1b676aa-9d9a-4657-8d45-ad8ff4f427f4",
   "metadata": {},
   "outputs": [],
   "source": []
  }
 ],
 "metadata": {
  "kernelspec": {
   "display_name": "Python 3 (ipykernel)",
   "language": "python",
   "name": "python3"
  },
  "language_info": {
   "codemirror_mode": {
    "name": "ipython",
    "version": 3
   },
   "file_extension": ".py",
   "mimetype": "text/x-python",
   "name": "python",
   "nbconvert_exporter": "python",
   "pygments_lexer": "ipython3",
   "version": "3.10.8"
  }
 },
 "nbformat": 4,
 "nbformat_minor": 5
}
